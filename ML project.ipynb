{
 "cells": [
  {
   "cell_type": "code",
   "execution_count": 1,
   "id": "f1e0c5ad",
   "metadata": {},
   "outputs": [],
   "source": [
    "import numpy as np\n",
    "import pandas as pd\n",
    "import matplotlib.pyplot as plt\n",
    "import seaborn as sns\n",
    "import warnings as w\n",
    "w.filterwarnings(\"ignore\")"
   ]
  },
  {
   "cell_type": "code",
   "execution_count": 2,
   "id": "8ec7628f",
   "metadata": {},
   "outputs": [
    {
     "data": {
      "text/html": [
       "<div>\n",
       "<style scoped>\n",
       "    .dataframe tbody tr th:only-of-type {\n",
       "        vertical-align: middle;\n",
       "    }\n",
       "\n",
       "    .dataframe tbody tr th {\n",
       "        vertical-align: top;\n",
       "    }\n",
       "\n",
       "    .dataframe thead th {\n",
       "        text-align: right;\n",
       "    }\n",
       "</style>\n",
       "<table border=\"1\" class=\"dataframe\">\n",
       "  <thead>\n",
       "    <tr style=\"text-align: right;\">\n",
       "      <th></th>\n",
       "      <th>id</th>\n",
       "      <th>gender</th>\n",
       "      <th>age</th>\n",
       "      <th>hypertension</th>\n",
       "      <th>heart_disease</th>\n",
       "      <th>ever_married</th>\n",
       "      <th>work_type</th>\n",
       "      <th>Residence_type</th>\n",
       "      <th>avg_glucose_level</th>\n",
       "      <th>bmi</th>\n",
       "      <th>smoking_status</th>\n",
       "      <th>stroke</th>\n",
       "    </tr>\n",
       "  </thead>\n",
       "  <tbody>\n",
       "    <tr>\n",
       "      <th>0</th>\n",
       "      <td>9046</td>\n",
       "      <td>Male</td>\n",
       "      <td>67.0</td>\n",
       "      <td>0</td>\n",
       "      <td>1</td>\n",
       "      <td>Yes</td>\n",
       "      <td>Private</td>\n",
       "      <td>Urban</td>\n",
       "      <td>228.69</td>\n",
       "      <td>36.6</td>\n",
       "      <td>formerly smoked</td>\n",
       "      <td>1</td>\n",
       "    </tr>\n",
       "    <tr>\n",
       "      <th>1</th>\n",
       "      <td>51676</td>\n",
       "      <td>Female</td>\n",
       "      <td>61.0</td>\n",
       "      <td>0</td>\n",
       "      <td>0</td>\n",
       "      <td>Yes</td>\n",
       "      <td>Self-employed</td>\n",
       "      <td>Rural</td>\n",
       "      <td>202.21</td>\n",
       "      <td>NaN</td>\n",
       "      <td>never smoked</td>\n",
       "      <td>1</td>\n",
       "    </tr>\n",
       "    <tr>\n",
       "      <th>2</th>\n",
       "      <td>31112</td>\n",
       "      <td>Male</td>\n",
       "      <td>80.0</td>\n",
       "      <td>0</td>\n",
       "      <td>1</td>\n",
       "      <td>Yes</td>\n",
       "      <td>Private</td>\n",
       "      <td>Rural</td>\n",
       "      <td>105.92</td>\n",
       "      <td>32.5</td>\n",
       "      <td>never smoked</td>\n",
       "      <td>1</td>\n",
       "    </tr>\n",
       "    <tr>\n",
       "      <th>3</th>\n",
       "      <td>60182</td>\n",
       "      <td>Female</td>\n",
       "      <td>49.0</td>\n",
       "      <td>0</td>\n",
       "      <td>0</td>\n",
       "      <td>Yes</td>\n",
       "      <td>Private</td>\n",
       "      <td>Urban</td>\n",
       "      <td>171.23</td>\n",
       "      <td>34.4</td>\n",
       "      <td>smokes</td>\n",
       "      <td>1</td>\n",
       "    </tr>\n",
       "    <tr>\n",
       "      <th>4</th>\n",
       "      <td>1665</td>\n",
       "      <td>Female</td>\n",
       "      <td>79.0</td>\n",
       "      <td>1</td>\n",
       "      <td>0</td>\n",
       "      <td>Yes</td>\n",
       "      <td>Self-employed</td>\n",
       "      <td>Rural</td>\n",
       "      <td>174.12</td>\n",
       "      <td>24.0</td>\n",
       "      <td>never smoked</td>\n",
       "      <td>1</td>\n",
       "    </tr>\n",
       "    <tr>\n",
       "      <th>...</th>\n",
       "      <td>...</td>\n",
       "      <td>...</td>\n",
       "      <td>...</td>\n",
       "      <td>...</td>\n",
       "      <td>...</td>\n",
       "      <td>...</td>\n",
       "      <td>...</td>\n",
       "      <td>...</td>\n",
       "      <td>...</td>\n",
       "      <td>...</td>\n",
       "      <td>...</td>\n",
       "      <td>...</td>\n",
       "    </tr>\n",
       "    <tr>\n",
       "      <th>5105</th>\n",
       "      <td>18234</td>\n",
       "      <td>Female</td>\n",
       "      <td>80.0</td>\n",
       "      <td>1</td>\n",
       "      <td>0</td>\n",
       "      <td>Yes</td>\n",
       "      <td>Private</td>\n",
       "      <td>Urban</td>\n",
       "      <td>83.75</td>\n",
       "      <td>NaN</td>\n",
       "      <td>never smoked</td>\n",
       "      <td>0</td>\n",
       "    </tr>\n",
       "    <tr>\n",
       "      <th>5106</th>\n",
       "      <td>44873</td>\n",
       "      <td>Female</td>\n",
       "      <td>81.0</td>\n",
       "      <td>0</td>\n",
       "      <td>0</td>\n",
       "      <td>Yes</td>\n",
       "      <td>Self-employed</td>\n",
       "      <td>Urban</td>\n",
       "      <td>125.20</td>\n",
       "      <td>40.0</td>\n",
       "      <td>never smoked</td>\n",
       "      <td>0</td>\n",
       "    </tr>\n",
       "    <tr>\n",
       "      <th>5107</th>\n",
       "      <td>19723</td>\n",
       "      <td>Female</td>\n",
       "      <td>35.0</td>\n",
       "      <td>0</td>\n",
       "      <td>0</td>\n",
       "      <td>Yes</td>\n",
       "      <td>Self-employed</td>\n",
       "      <td>Rural</td>\n",
       "      <td>82.99</td>\n",
       "      <td>30.6</td>\n",
       "      <td>never smoked</td>\n",
       "      <td>0</td>\n",
       "    </tr>\n",
       "    <tr>\n",
       "      <th>5108</th>\n",
       "      <td>37544</td>\n",
       "      <td>Male</td>\n",
       "      <td>51.0</td>\n",
       "      <td>0</td>\n",
       "      <td>0</td>\n",
       "      <td>Yes</td>\n",
       "      <td>Private</td>\n",
       "      <td>Rural</td>\n",
       "      <td>166.29</td>\n",
       "      <td>25.6</td>\n",
       "      <td>formerly smoked</td>\n",
       "      <td>0</td>\n",
       "    </tr>\n",
       "    <tr>\n",
       "      <th>5109</th>\n",
       "      <td>44679</td>\n",
       "      <td>Female</td>\n",
       "      <td>44.0</td>\n",
       "      <td>0</td>\n",
       "      <td>0</td>\n",
       "      <td>Yes</td>\n",
       "      <td>Govt_job</td>\n",
       "      <td>Urban</td>\n",
       "      <td>85.28</td>\n",
       "      <td>26.2</td>\n",
       "      <td>Unknown</td>\n",
       "      <td>0</td>\n",
       "    </tr>\n",
       "  </tbody>\n",
       "</table>\n",
       "<p>5110 rows × 12 columns</p>\n",
       "</div>"
      ],
      "text/plain": [
       "         id  gender   age  hypertension  heart_disease ever_married  \\\n",
       "0      9046    Male  67.0             0              1          Yes   \n",
       "1     51676  Female  61.0             0              0          Yes   \n",
       "2     31112    Male  80.0             0              1          Yes   \n",
       "3     60182  Female  49.0             0              0          Yes   \n",
       "4      1665  Female  79.0             1              0          Yes   \n",
       "...     ...     ...   ...           ...            ...          ...   \n",
       "5105  18234  Female  80.0             1              0          Yes   \n",
       "5106  44873  Female  81.0             0              0          Yes   \n",
       "5107  19723  Female  35.0             0              0          Yes   \n",
       "5108  37544    Male  51.0             0              0          Yes   \n",
       "5109  44679  Female  44.0             0              0          Yes   \n",
       "\n",
       "          work_type Residence_type  avg_glucose_level   bmi   smoking_status  \\\n",
       "0           Private          Urban             228.69  36.6  formerly smoked   \n",
       "1     Self-employed          Rural             202.21   NaN     never smoked   \n",
       "2           Private          Rural             105.92  32.5     never smoked   \n",
       "3           Private          Urban             171.23  34.4           smokes   \n",
       "4     Self-employed          Rural             174.12  24.0     never smoked   \n",
       "...             ...            ...                ...   ...              ...   \n",
       "5105        Private          Urban              83.75   NaN     never smoked   \n",
       "5106  Self-employed          Urban             125.20  40.0     never smoked   \n",
       "5107  Self-employed          Rural              82.99  30.6     never smoked   \n",
       "5108        Private          Rural             166.29  25.6  formerly smoked   \n",
       "5109       Govt_job          Urban              85.28  26.2          Unknown   \n",
       "\n",
       "      stroke  \n",
       "0          1  \n",
       "1          1  \n",
       "2          1  \n",
       "3          1  \n",
       "4          1  \n",
       "...      ...  \n",
       "5105       0  \n",
       "5106       0  \n",
       "5107       0  \n",
       "5108       0  \n",
       "5109       0  \n",
       "\n",
       "[5110 rows x 12 columns]"
      ]
     },
     "execution_count": 2,
     "metadata": {},
     "output_type": "execute_result"
    }
   ],
   "source": [
    "df=pd.read_csv(\"healthcare-dataset-stroke-data.csv\")\n",
    "df"
   ]
  },
  {
   "cell_type": "code",
   "execution_count": 3,
   "id": "57a8f961",
   "metadata": {},
   "outputs": [
    {
     "name": "stdout",
     "output_type": "stream",
     "text": [
      "<class 'pandas.core.frame.DataFrame'>\n",
      "RangeIndex: 5110 entries, 0 to 5109\n",
      "Data columns (total 12 columns):\n",
      " #   Column             Non-Null Count  Dtype  \n",
      "---  ------             --------------  -----  \n",
      " 0   id                 5110 non-null   int64  \n",
      " 1   gender             5110 non-null   object \n",
      " 2   age                5110 non-null   float64\n",
      " 3   hypertension       5110 non-null   int64  \n",
      " 4   heart_disease      5110 non-null   int64  \n",
      " 5   ever_married       5110 non-null   object \n",
      " 6   work_type          5110 non-null   object \n",
      " 7   Residence_type     5110 non-null   object \n",
      " 8   avg_glucose_level  5110 non-null   float64\n",
      " 9   bmi                4909 non-null   float64\n",
      " 10  smoking_status     5110 non-null   object \n",
      " 11  stroke             5110 non-null   int64  \n",
      "dtypes: float64(3), int64(4), object(5)\n",
      "memory usage: 479.2+ KB\n"
     ]
    }
   ],
   "source": [
    "df.info()"
   ]
  },
  {
   "cell_type": "code",
   "execution_count": 4,
   "id": "5a9c4bb6",
   "metadata": {},
   "outputs": [],
   "source": [
    "# In the above dataset there is 12 columns and 5110 records\n",
    "# In that dataset gender, ever_married, work_type,Residence_type and  smoking_status columns have object datatype\n",
    "# while id,hypertension, heart_disease and stroke columns have integer datatype\n",
    "# and rest of the coulums have float datatype"
   ]
  },
  {
   "cell_type": "code",
   "execution_count": 5,
   "id": "293e364a",
   "metadata": {},
   "outputs": [
    {
     "data": {
      "text/plain": [
       "id                     0\n",
       "gender                 0\n",
       "age                    0\n",
       "hypertension           0\n",
       "heart_disease          0\n",
       "ever_married           0\n",
       "work_type              0\n",
       "Residence_type         0\n",
       "avg_glucose_level      0\n",
       "bmi                  201\n",
       "smoking_status         0\n",
       "stroke                 0\n",
       "dtype: int64"
      ]
     },
     "execution_count": 5,
     "metadata": {},
     "output_type": "execute_result"
    }
   ],
   "source": [
    "df.isnull().sum()"
   ]
  },
  {
   "cell_type": "code",
   "execution_count": 6,
   "id": "724212f5",
   "metadata": {},
   "outputs": [
    {
     "data": {
      "text/plain": [
       "3.9334637964774952"
      ]
     },
     "execution_count": 6,
     "metadata": {},
     "output_type": "execute_result"
    }
   ],
   "source": [
    "(201/5110)*100"
   ]
  },
  {
   "cell_type": "code",
   "execution_count": 7,
   "id": "73f0bf9f",
   "metadata": {},
   "outputs": [],
   "source": [
    "# In the above dataset in the column of bmi there is 201 missing value aand the percentage of missing value is 3.933 \n",
    "# so in this case we will go for fillna method"
   ]
  },
  {
   "cell_type": "code",
   "execution_count": 8,
   "id": "bd2378fe",
   "metadata": {},
   "outputs": [],
   "source": [
    "bmean=df[\"bmi\"].mean()\n",
    "df[\"bmi\"].fillna(bmean,inplace=True)"
   ]
  },
  {
   "cell_type": "code",
   "execution_count": 9,
   "id": "c0529839",
   "metadata": {},
   "outputs": [
    {
     "data": {
      "text/plain": [
       "id                   0\n",
       "gender               0\n",
       "age                  0\n",
       "hypertension         0\n",
       "heart_disease        0\n",
       "ever_married         0\n",
       "work_type            0\n",
       "Residence_type       0\n",
       "avg_glucose_level    0\n",
       "bmi                  0\n",
       "smoking_status       0\n",
       "stroke               0\n",
       "dtype: int64"
      ]
     },
     "execution_count": 9,
     "metadata": {},
     "output_type": "execute_result"
    }
   ],
   "source": [
    "df.isnull().sum()"
   ]
  },
  {
   "cell_type": "code",
   "execution_count": 10,
   "id": "0eb7c9df",
   "metadata": {},
   "outputs": [],
   "source": [
    "# After removing missing value we will go for removing unwanted columns \n",
    "# In the above data set id column is unwanted column \n",
    "# As id don't give us more information about this dataset so we will drop that column"
   ]
  },
  {
   "cell_type": "code",
   "execution_count": 11,
   "id": "4a16dfa0",
   "metadata": {},
   "outputs": [],
   "source": [
    "df.drop(\"id\",inplace=True,axis=1)"
   ]
  },
  {
   "cell_type": "code",
   "execution_count": 12,
   "id": "bf0ea559",
   "metadata": {},
   "outputs": [
    {
     "data": {
      "text/html": [
       "<div>\n",
       "<style scoped>\n",
       "    .dataframe tbody tr th:only-of-type {\n",
       "        vertical-align: middle;\n",
       "    }\n",
       "\n",
       "    .dataframe tbody tr th {\n",
       "        vertical-align: top;\n",
       "    }\n",
       "\n",
       "    .dataframe thead th {\n",
       "        text-align: right;\n",
       "    }\n",
       "</style>\n",
       "<table border=\"1\" class=\"dataframe\">\n",
       "  <thead>\n",
       "    <tr style=\"text-align: right;\">\n",
       "      <th></th>\n",
       "      <th>gender</th>\n",
       "      <th>age</th>\n",
       "      <th>hypertension</th>\n",
       "      <th>heart_disease</th>\n",
       "      <th>ever_married</th>\n",
       "      <th>work_type</th>\n",
       "      <th>Residence_type</th>\n",
       "      <th>avg_glucose_level</th>\n",
       "      <th>bmi</th>\n",
       "      <th>smoking_status</th>\n",
       "      <th>stroke</th>\n",
       "    </tr>\n",
       "  </thead>\n",
       "  <tbody>\n",
       "    <tr>\n",
       "      <th>0</th>\n",
       "      <td>Male</td>\n",
       "      <td>67.0</td>\n",
       "      <td>0</td>\n",
       "      <td>1</td>\n",
       "      <td>Yes</td>\n",
       "      <td>Private</td>\n",
       "      <td>Urban</td>\n",
       "      <td>228.69</td>\n",
       "      <td>36.600000</td>\n",
       "      <td>formerly smoked</td>\n",
       "      <td>1</td>\n",
       "    </tr>\n",
       "    <tr>\n",
       "      <th>1</th>\n",
       "      <td>Female</td>\n",
       "      <td>61.0</td>\n",
       "      <td>0</td>\n",
       "      <td>0</td>\n",
       "      <td>Yes</td>\n",
       "      <td>Self-employed</td>\n",
       "      <td>Rural</td>\n",
       "      <td>202.21</td>\n",
       "      <td>28.893237</td>\n",
       "      <td>never smoked</td>\n",
       "      <td>1</td>\n",
       "    </tr>\n",
       "    <tr>\n",
       "      <th>2</th>\n",
       "      <td>Male</td>\n",
       "      <td>80.0</td>\n",
       "      <td>0</td>\n",
       "      <td>1</td>\n",
       "      <td>Yes</td>\n",
       "      <td>Private</td>\n",
       "      <td>Rural</td>\n",
       "      <td>105.92</td>\n",
       "      <td>32.500000</td>\n",
       "      <td>never smoked</td>\n",
       "      <td>1</td>\n",
       "    </tr>\n",
       "    <tr>\n",
       "      <th>3</th>\n",
       "      <td>Female</td>\n",
       "      <td>49.0</td>\n",
       "      <td>0</td>\n",
       "      <td>0</td>\n",
       "      <td>Yes</td>\n",
       "      <td>Private</td>\n",
       "      <td>Urban</td>\n",
       "      <td>171.23</td>\n",
       "      <td>34.400000</td>\n",
       "      <td>smokes</td>\n",
       "      <td>1</td>\n",
       "    </tr>\n",
       "    <tr>\n",
       "      <th>4</th>\n",
       "      <td>Female</td>\n",
       "      <td>79.0</td>\n",
       "      <td>1</td>\n",
       "      <td>0</td>\n",
       "      <td>Yes</td>\n",
       "      <td>Self-employed</td>\n",
       "      <td>Rural</td>\n",
       "      <td>174.12</td>\n",
       "      <td>24.000000</td>\n",
       "      <td>never smoked</td>\n",
       "      <td>1</td>\n",
       "    </tr>\n",
       "    <tr>\n",
       "      <th>...</th>\n",
       "      <td>...</td>\n",
       "      <td>...</td>\n",
       "      <td>...</td>\n",
       "      <td>...</td>\n",
       "      <td>...</td>\n",
       "      <td>...</td>\n",
       "      <td>...</td>\n",
       "      <td>...</td>\n",
       "      <td>...</td>\n",
       "      <td>...</td>\n",
       "      <td>...</td>\n",
       "    </tr>\n",
       "    <tr>\n",
       "      <th>5105</th>\n",
       "      <td>Female</td>\n",
       "      <td>80.0</td>\n",
       "      <td>1</td>\n",
       "      <td>0</td>\n",
       "      <td>Yes</td>\n",
       "      <td>Private</td>\n",
       "      <td>Urban</td>\n",
       "      <td>83.75</td>\n",
       "      <td>28.893237</td>\n",
       "      <td>never smoked</td>\n",
       "      <td>0</td>\n",
       "    </tr>\n",
       "    <tr>\n",
       "      <th>5106</th>\n",
       "      <td>Female</td>\n",
       "      <td>81.0</td>\n",
       "      <td>0</td>\n",
       "      <td>0</td>\n",
       "      <td>Yes</td>\n",
       "      <td>Self-employed</td>\n",
       "      <td>Urban</td>\n",
       "      <td>125.20</td>\n",
       "      <td>40.000000</td>\n",
       "      <td>never smoked</td>\n",
       "      <td>0</td>\n",
       "    </tr>\n",
       "    <tr>\n",
       "      <th>5107</th>\n",
       "      <td>Female</td>\n",
       "      <td>35.0</td>\n",
       "      <td>0</td>\n",
       "      <td>0</td>\n",
       "      <td>Yes</td>\n",
       "      <td>Self-employed</td>\n",
       "      <td>Rural</td>\n",
       "      <td>82.99</td>\n",
       "      <td>30.600000</td>\n",
       "      <td>never smoked</td>\n",
       "      <td>0</td>\n",
       "    </tr>\n",
       "    <tr>\n",
       "      <th>5108</th>\n",
       "      <td>Male</td>\n",
       "      <td>51.0</td>\n",
       "      <td>0</td>\n",
       "      <td>0</td>\n",
       "      <td>Yes</td>\n",
       "      <td>Private</td>\n",
       "      <td>Rural</td>\n",
       "      <td>166.29</td>\n",
       "      <td>25.600000</td>\n",
       "      <td>formerly smoked</td>\n",
       "      <td>0</td>\n",
       "    </tr>\n",
       "    <tr>\n",
       "      <th>5109</th>\n",
       "      <td>Female</td>\n",
       "      <td>44.0</td>\n",
       "      <td>0</td>\n",
       "      <td>0</td>\n",
       "      <td>Yes</td>\n",
       "      <td>Govt_job</td>\n",
       "      <td>Urban</td>\n",
       "      <td>85.28</td>\n",
       "      <td>26.200000</td>\n",
       "      <td>Unknown</td>\n",
       "      <td>0</td>\n",
       "    </tr>\n",
       "  </tbody>\n",
       "</table>\n",
       "<p>5110 rows × 11 columns</p>\n",
       "</div>"
      ],
      "text/plain": [
       "      gender   age  hypertension  heart_disease ever_married      work_type  \\\n",
       "0       Male  67.0             0              1          Yes        Private   \n",
       "1     Female  61.0             0              0          Yes  Self-employed   \n",
       "2       Male  80.0             0              1          Yes        Private   \n",
       "3     Female  49.0             0              0          Yes        Private   \n",
       "4     Female  79.0             1              0          Yes  Self-employed   \n",
       "...      ...   ...           ...            ...          ...            ...   \n",
       "5105  Female  80.0             1              0          Yes        Private   \n",
       "5106  Female  81.0             0              0          Yes  Self-employed   \n",
       "5107  Female  35.0             0              0          Yes  Self-employed   \n",
       "5108    Male  51.0             0              0          Yes        Private   \n",
       "5109  Female  44.0             0              0          Yes       Govt_job   \n",
       "\n",
       "     Residence_type  avg_glucose_level        bmi   smoking_status  stroke  \n",
       "0             Urban             228.69  36.600000  formerly smoked       1  \n",
       "1             Rural             202.21  28.893237     never smoked       1  \n",
       "2             Rural             105.92  32.500000     never smoked       1  \n",
       "3             Urban             171.23  34.400000           smokes       1  \n",
       "4             Rural             174.12  24.000000     never smoked       1  \n",
       "...             ...                ...        ...              ...     ...  \n",
       "5105          Urban              83.75  28.893237     never smoked       0  \n",
       "5106          Urban             125.20  40.000000     never smoked       0  \n",
       "5107          Rural              82.99  30.600000     never smoked       0  \n",
       "5108          Rural             166.29  25.600000  formerly smoked       0  \n",
       "5109          Urban              85.28  26.200000          Unknown       0  \n",
       "\n",
       "[5110 rows x 11 columns]"
      ]
     },
     "execution_count": 12,
     "metadata": {},
     "output_type": "execute_result"
    }
   ],
   "source": [
    "df"
   ]
  },
  {
   "cell_type": "code",
   "execution_count": 13,
   "id": "e05543c5",
   "metadata": {},
   "outputs": [],
   "source": [
    "# now let's plot some graph and try to find little bit more information about dataset"
   ]
  },
  {
   "cell_type": "code",
   "execution_count": 14,
   "id": "c20948f4",
   "metadata": {},
   "outputs": [
    {
     "data": {
      "image/png": "[encoded data removed]",
      "text/plain": [
       "<Figure size 942.375x900 with 30 Axes>"
      ]
     },
     "metadata": {
      "needs_background": "light"
     },
     "output_type": "display_data"
    }
   ],
   "source": [
    "sns.pairplot(df,hue=\"stroke\")\n",
    "plt.show()"
   ]
  },
  {
   "cell_type": "code",
   "execution_count": 15,
   "id": "b170cd1b",
   "metadata": {},
   "outputs": [
    {
     "data": {
      "text/html": [
       "<div>\n",
       "<style scoped>\n",
       "    .dataframe tbody tr th:only-of-type {\n",
       "        vertical-align: middle;\n",
       "    }\n",
       "\n",
       "    .dataframe tbody tr th {\n",
       "        vertical-align: top;\n",
       "    }\n",
       "\n",
       "    .dataframe thead th {\n",
       "        text-align: right;\n",
       "    }\n",
       "</style>\n",
       "<table border=\"1\" class=\"dataframe\">\n",
       "  <thead>\n",
       "    <tr style=\"text-align: right;\">\n",
       "      <th></th>\n",
       "      <th>gender</th>\n",
       "      <th>age</th>\n",
       "      <th>hypertension</th>\n",
       "      <th>heart_disease</th>\n",
       "      <th>ever_married</th>\n",
       "      <th>work_type</th>\n",
       "      <th>Residence_type</th>\n",
       "      <th>avg_glucose_level</th>\n",
       "      <th>bmi</th>\n",
       "      <th>smoking_status</th>\n",
       "      <th>stroke</th>\n",
       "    </tr>\n",
       "  </thead>\n",
       "  <tbody>\n",
       "    <tr>\n",
       "      <th>0</th>\n",
       "      <td>Male</td>\n",
       "      <td>67.0</td>\n",
       "      <td>0</td>\n",
       "      <td>1</td>\n",
       "      <td>Yes</td>\n",
       "      <td>Private</td>\n",
       "      <td>Urban</td>\n",
       "      <td>228.69</td>\n",
       "      <td>36.6</td>\n",
       "      <td>formerly smoked</td>\n",
       "      <td>1</td>\n",
       "    </tr>\n",
       "  </tbody>\n",
       "</table>\n",
       "</div>"
      ],
      "text/plain": [
       "  gender   age  hypertension  heart_disease ever_married work_type  \\\n",
       "0   Male  67.0             0              1          Yes   Private   \n",
       "\n",
       "  Residence_type  avg_glucose_level   bmi   smoking_status  stroke  \n",
       "0          Urban             228.69  36.6  formerly smoked       1  "
      ]
     },
     "execution_count": 15,
     "metadata": {},
     "output_type": "execute_result"
    }
   ],
   "source": [
    "df.head(1)"
   ]
  },
  {
   "cell_type": "code",
   "execution_count": 16,
   "id": "8becea1a",
   "metadata": {},
   "outputs": [
    {
     "data": {
      "text/plain": [
       "Female    2994\n",
       "Male      2115\n",
       "Other        1\n",
       "Name: gender, dtype: int64"
      ]
     },
     "execution_count": 16,
     "metadata": {},
     "output_type": "execute_result"
    }
   ],
   "source": [
    "df[\"gender\"].value_counts()"
   ]
  },
  {
   "cell_type": "code",
   "execution_count": 17,
   "id": "394ccdce",
   "metadata": {},
   "outputs": [
    {
     "data": {
      "image/png": "[encoded data removed]",
      "text/plain": [
       "<Figure size 432x288 with 1 Axes>"
      ]
     },
     "metadata": {
      "needs_background": "light"
     },
     "output_type": "display_data"
    }
   ],
   "source": [
    "df[\"gender\"].value_counts().plot(kind=\"bar\")\n",
    "plt.show()"
   ]
  },
  {
   "cell_type": "code",
   "execution_count": 18,
   "id": "d9ceb13b",
   "metadata": {},
   "outputs": [
    {
     "data": {
      "image/png": "[encoded data removed]",
      "text/plain": [
       "<Figure size 432x288 with 1 Axes>"
      ]
     },
     "metadata": {
      "needs_background": "light"
     },
     "output_type": "display_data"
    }
   ],
   "source": [
    "df[\"age\"].value_counts().plot(kind=\"hist\",color=\"gray\")\n",
    "plt.show()"
   ]
  },
  {
   "cell_type": "code",
   "execution_count": 19,
   "id": "36a9b8d7",
   "metadata": {},
   "outputs": [
    {
     "data": {
      "text/plain": [
       "0    4612\n",
       "1     498\n",
       "Name: hypertension, dtype: int64"
      ]
     },
     "execution_count": 19,
     "metadata": {},
     "output_type": "execute_result"
    }
   ],
   "source": [
    "df[\"hypertension\"].value_counts()"
   ]
  },
  {
   "cell_type": "code",
   "execution_count": 20,
   "id": "734566ff",
   "metadata": {},
   "outputs": [
    {
     "data": {
      "image/png": "[encoded data removed]",
      "text/plain": [
       "<Figure size 432x288 with 1 Axes>"
      ]
     },
     "metadata": {
      "needs_background": "light"
     },
     "output_type": "display_data"
    }
   ],
   "source": [
    "sns.countplot(data=df,x=\"hypertension\",hue=\"stroke\")\n",
    "plt.show()"
   ]
  },
  {
   "cell_type": "code",
   "execution_count": 21,
   "id": "70ab8927",
   "metadata": {},
   "outputs": [
    {
     "data": {
      "text/plain": [
       "0    4834\n",
       "1     276\n",
       "Name: heart_disease, dtype: int64"
      ]
     },
     "execution_count": 21,
     "metadata": {},
     "output_type": "execute_result"
    }
   ],
   "source": [
    "df[\"heart_disease\"].value_counts()"
   ]
  },
  {
   "cell_type": "code",
   "execution_count": 22,
   "id": "f7a71a10",
   "metadata": {},
   "outputs": [
    {
     "data": {
      "image/png": "[encoded data removed]",
      "text/plain": [
       "<Figure size 432x288 with 1 Axes>"
      ]
     },
     "metadata": {},
     "output_type": "display_data"
    }
   ],
   "source": [
    "plt.pie(df[\"heart_disease\"].value_counts(),labels=[\"No\",\"Yes\"],colors=[\"hotpink\",\"pink\"],autopct=\"%1.1f%%\")\n",
    "plt.show()"
   ]
  },
  {
   "cell_type": "code",
   "execution_count": 23,
   "id": "011af72a",
   "metadata": {},
   "outputs": [
    {
     "data": {
      "text/plain": [
       "Yes    3353\n",
       "No     1757\n",
       "Name: ever_married, dtype: int64"
      ]
     },
     "execution_count": 23,
     "metadata": {},
     "output_type": "execute_result"
    }
   ],
   "source": [
    "df[\"ever_married\"].value_counts()"
   ]
  },
  {
   "cell_type": "code",
   "execution_count": 24,
   "id": "6810bfa5",
   "metadata": {},
   "outputs": [
    {
     "data": {
      "image/png": "[encoded data removed]",
      "text/plain": [
       "<Figure size 432x288 with 1 Axes>"
      ]
     },
     "metadata": {
      "needs_background": "light"
     },
     "output_type": "display_data"
    }
   ],
   "source": [
    "sns.countplot(data=df,x=\"ever_married\")\n",
    "plt.show()"
   ]
  },
  {
   "cell_type": "code",
   "execution_count": 25,
   "id": "26fea55d",
   "metadata": {},
   "outputs": [
    {
     "data": {
      "text/plain": [
       "Private          2925\n",
       "Self-employed     819\n",
       "children          687\n",
       "Govt_job          657\n",
       "Never_worked       22\n",
       "Name: work_type, dtype: int64"
      ]
     },
     "execution_count": 25,
     "metadata": {},
     "output_type": "execute_result"
    }
   ],
   "source": [
    "df[\"work_type\"].value_counts()"
   ]
  },
  {
   "cell_type": "code",
   "execution_count": 26,
   "id": "c0011bc0",
   "metadata": {},
   "outputs": [
    {
     "data": {
      "image/png": "[encoded data removed]",
      "text/plain": [
       "<Figure size 432x288 with 1 Axes>"
      ]
     },
     "metadata": {
      "needs_background": "light"
     },
     "output_type": "display_data"
    }
   ],
   "source": [
    "sns.countplot(data=df,x=\"work_type\")\n",
    "plt.show()"
   ]
  },
  {
   "cell_type": "code",
   "execution_count": 27,
   "id": "6b02a24d",
   "metadata": {
    "scrolled": true
   },
   "outputs": [
    {
     "data": {
      "image/png": "[encoded data removed]",
      "text/plain": [
       "<Figure size 432x288 with 1 Axes>"
      ]
     },
     "metadata": {
      "needs_background": "light"
     },
     "output_type": "display_data"
    }
   ],
   "source": [
    "sns.countplot(data=df,x=\"work_type\")\n",
    "plt.show()"
   ]
  },
  {
   "cell_type": "code",
   "execution_count": 28,
   "id": "898b3896",
   "metadata": {},
   "outputs": [
    {
     "data": {
      "text/plain": [
       "Urban    2596\n",
       "Rural    2514\n",
       "Name: Residence_type, dtype: int64"
      ]
     },
     "execution_count": 28,
     "metadata": {},
     "output_type": "execute_result"
    }
   ],
   "source": [
    "df[\"Residence_type\"].value_counts()"
   ]
  },
  {
   "cell_type": "code",
   "execution_count": 29,
   "id": "fde48771",
   "metadata": {},
   "outputs": [
    {
     "data": {
      "image/png": "[encoded data removed]",
      "text/plain": [
       "<Figure size 432x288 with 1 Axes>"
      ]
     },
     "metadata": {},
     "output_type": "display_data"
    }
   ],
   "source": [
    "df[\"Residence_type\"].value_counts().plot(kind=\"pie\")\n",
    "plt.show()"
   ]
  },
  {
   "cell_type": "code",
   "execution_count": 30,
   "id": "e3614164",
   "metadata": {},
   "outputs": [
    {
     "data": {
      "image/png": "[encoded data removed]",
      "text/plain": [
       "<Figure size 432x288 with 1 Axes>"
      ]
     },
     "metadata": {
      "needs_background": "light"
     },
     "output_type": "display_data"
    }
   ],
   "source": [
    "x = df['avg_glucose_level']\n",
    "y = df['stroke']\n",
    "\n",
    "# Create a scatter plot\n",
    "plt.scatter(x, y)\n",
    "\n",
    "# Set the title and axis labels\n",
    "plt.title('Average Glucose Level vs. Target')\n",
    "plt.xlabel('Average Glucose Level')\n",
    "plt.ylabel('stroke')\n",
    "\n",
    "# Display the plot\n",
    "plt.show()"
   ]
  },
  {
   "cell_type": "code",
   "execution_count": 31,
   "id": "e8cb3033",
   "metadata": {},
   "outputs": [
    {
     "data": {
      "image/png": "[encoded data removed]",
      "text/plain": [
       "<Figure size 432x288 with 1 Axes>"
      ]
     },
     "metadata": {
      "needs_background": "light"
     },
     "output_type": "display_data"
    }
   ],
   "source": [
    "x = df['bmi']\n",
    "y = df['stroke']\n",
    "\n",
    "# Create a scatter plot\n",
    "plt.scatter(x, y)\n",
    "\n",
    "# Set the title and axis labels\n",
    "plt.title('Average Glucose Level vs. Target')\n",
    "plt.xlabel('Average Glucose Level')\n",
    "plt.ylabel('stroke')\n",
    "\n",
    "# Display the plot\n",
    "plt.show()"
   ]
  },
  {
   "cell_type": "code",
   "execution_count": 32,
   "id": "668b6cbf",
   "metadata": {},
   "outputs": [
    {
     "data": {
      "text/plain": [
       "<AxesSubplot:>"
      ]
     },
     "execution_count": 32,
     "metadata": {},
     "output_type": "execute_result"
    },
    {
     "data": {
      "image/png": "[encoded data removed]",
      "text/plain": [
       "<Figure size 432x288 with 1 Axes>"
      ]
     },
     "metadata": {
      "needs_background": "light"
     },
     "output_type": "display_data"
    }
   ],
   "source": [
    "df[\"smoking_status\"].value_counts().plot(kind=\"bar\")"
   ]
  },
  {
   "cell_type": "code",
   "execution_count": 33,
   "id": "ae2563d8",
   "metadata": {},
   "outputs": [
    {
     "data": {
      "text/html": [
       "<div>\n",
       "<style scoped>\n",
       "    .dataframe tbody tr th:only-of-type {\n",
       "        vertical-align: middle;\n",
       "    }\n",
       "\n",
       "    .dataframe tbody tr th {\n",
       "        vertical-align: top;\n",
       "    }\n",
       "\n",
       "    .dataframe thead th {\n",
       "        text-align: right;\n",
       "    }\n",
       "</style>\n",
       "<table border=\"1\" class=\"dataframe\">\n",
       "  <thead>\n",
       "    <tr style=\"text-align: right;\">\n",
       "      <th></th>\n",
       "      <th>age</th>\n",
       "      <th>hypertension</th>\n",
       "      <th>heart_disease</th>\n",
       "      <th>avg_glucose_level</th>\n",
       "      <th>bmi</th>\n",
       "      <th>stroke</th>\n",
       "    </tr>\n",
       "  </thead>\n",
       "  <tbody>\n",
       "    <tr>\n",
       "      <th>count</th>\n",
       "      <td>5110.000000</td>\n",
       "      <td>5110.000000</td>\n",
       "      <td>5110.000000</td>\n",
       "      <td>5110.000000</td>\n",
       "      <td>5110.000000</td>\n",
       "      <td>5110.000000</td>\n",
       "    </tr>\n",
       "    <tr>\n",
       "      <th>mean</th>\n",
       "      <td>43.226614</td>\n",
       "      <td>0.097456</td>\n",
       "      <td>0.054012</td>\n",
       "      <td>106.147677</td>\n",
       "      <td>28.893237</td>\n",
       "      <td>0.048728</td>\n",
       "    </tr>\n",
       "    <tr>\n",
       "      <th>std</th>\n",
       "      <td>22.612647</td>\n",
       "      <td>0.296607</td>\n",
       "      <td>0.226063</td>\n",
       "      <td>45.283560</td>\n",
       "      <td>7.698018</td>\n",
       "      <td>0.215320</td>\n",
       "    </tr>\n",
       "    <tr>\n",
       "      <th>min</th>\n",
       "      <td>0.080000</td>\n",
       "      <td>0.000000</td>\n",
       "      <td>0.000000</td>\n",
       "      <td>55.120000</td>\n",
       "      <td>10.300000</td>\n",
       "      <td>0.000000</td>\n",
       "    </tr>\n",
       "    <tr>\n",
       "      <th>25%</th>\n",
       "      <td>25.000000</td>\n",
       "      <td>0.000000</td>\n",
       "      <td>0.000000</td>\n",
       "      <td>77.245000</td>\n",
       "      <td>23.800000</td>\n",
       "      <td>0.000000</td>\n",
       "    </tr>\n",
       "    <tr>\n",
       "      <th>50%</th>\n",
       "      <td>45.000000</td>\n",
       "      <td>0.000000</td>\n",
       "      <td>0.000000</td>\n",
       "      <td>91.885000</td>\n",
       "      <td>28.400000</td>\n",
       "      <td>0.000000</td>\n",
       "    </tr>\n",
       "    <tr>\n",
       "      <th>75%</th>\n",
       "      <td>61.000000</td>\n",
       "      <td>0.000000</td>\n",
       "      <td>0.000000</td>\n",
       "      <td>114.090000</td>\n",
       "      <td>32.800000</td>\n",
       "      <td>0.000000</td>\n",
       "    </tr>\n",
       "    <tr>\n",
       "      <th>max</th>\n",
       "      <td>82.000000</td>\n",
       "      <td>1.000000</td>\n",
       "      <td>1.000000</td>\n",
       "      <td>271.740000</td>\n",
       "      <td>97.600000</td>\n",
       "      <td>1.000000</td>\n",
       "    </tr>\n",
       "  </tbody>\n",
       "</table>\n",
       "</div>"
      ],
      "text/plain": [
       "               age  hypertension  heart_disease  avg_glucose_level  \\\n",
       "count  5110.000000   5110.000000    5110.000000        5110.000000   \n",
       "mean     43.226614      0.097456       0.054012         106.147677   \n",
       "std      22.612647      0.296607       0.226063          45.283560   \n",
       "min       0.080000      0.000000       0.000000          55.120000   \n",
       "25%      25.000000      0.000000       0.000000          77.245000   \n",
       "50%      45.000000      0.000000       0.000000          91.885000   \n",
       "75%      61.000000      0.000000       0.000000         114.090000   \n",
       "max      82.000000      1.000000       1.000000         271.740000   \n",
       "\n",
       "               bmi       stroke  \n",
       "count  5110.000000  5110.000000  \n",
       "mean     28.893237     0.048728  \n",
       "std       7.698018     0.215320  \n",
       "min      10.300000     0.000000  \n",
       "25%      23.800000     0.000000  \n",
       "50%      28.400000     0.000000  \n",
       "75%      32.800000     0.000000  \n",
       "max      97.600000     1.000000  "
      ]
     },
     "execution_count": 33,
     "metadata": {},
     "output_type": "execute_result"
    }
   ],
   "source": [
    "df.describe()"
   ]
  },
  {
   "cell_type": "code",
   "execution_count": 34,
   "id": "94b32b25",
   "metadata": {},
   "outputs": [],
   "source": [
    "# In the above data minimum age is 0.08 years & maximum age is 82 years and average age is 43 years"
   ]
  },
  {
   "cell_type": "markdown",
   "id": "5e4e6405",
   "metadata": {},
   "source": [
    "### encoding"
   ]
  },
  {
   "cell_type": "code",
   "execution_count": 35,
   "id": "b209d711",
   "metadata": {},
   "outputs": [
    {
     "name": "stdout",
     "output_type": "stream",
     "text": [
      "Index(['gender', 'ever_married', 'work_type', 'Residence_type',\n",
      "       'smoking_status'],\n",
      "      dtype='object')\n"
     ]
    }
   ],
   "source": [
    "from sklearn.preprocessing import OrdinalEncoder\n",
    "oe=OrdinalEncoder()\n",
    "\n",
    "catcol=df.select_dtypes(object).columns\n",
    "print(catcol)\n",
    "\n",
    "df[catcol]=oe.fit_transform(df[catcol])"
   ]
  },
  {
   "cell_type": "code",
   "execution_count": 36,
   "id": "d4481946",
   "metadata": {},
   "outputs": [
    {
     "data": {
      "text/html": [
       "<div>\n",
       "<style scoped>\n",
       "    .dataframe tbody tr th:only-of-type {\n",
       "        vertical-align: middle;\n",
       "    }\n",
       "\n",
       "    .dataframe tbody tr th {\n",
       "        vertical-align: top;\n",
       "    }\n",
       "\n",
       "    .dataframe thead th {\n",
       "        text-align: right;\n",
       "    }\n",
       "</style>\n",
       "<table border=\"1\" class=\"dataframe\">\n",
       "  <thead>\n",
       "    <tr style=\"text-align: right;\">\n",
       "      <th></th>\n",
       "      <th>gender</th>\n",
       "      <th>age</th>\n",
       "      <th>hypertension</th>\n",
       "      <th>heart_disease</th>\n",
       "      <th>ever_married</th>\n",
       "      <th>work_type</th>\n",
       "      <th>Residence_type</th>\n",
       "      <th>avg_glucose_level</th>\n",
       "      <th>bmi</th>\n",
       "      <th>smoking_status</th>\n",
       "      <th>stroke</th>\n",
       "    </tr>\n",
       "  </thead>\n",
       "  <tbody>\n",
       "    <tr>\n",
       "      <th>0</th>\n",
       "      <td>1.0</td>\n",
       "      <td>67.0</td>\n",
       "      <td>0</td>\n",
       "      <td>1</td>\n",
       "      <td>1.0</td>\n",
       "      <td>2.0</td>\n",
       "      <td>1.0</td>\n",
       "      <td>228.69</td>\n",
       "      <td>36.600000</td>\n",
       "      <td>1.0</td>\n",
       "      <td>1</td>\n",
       "    </tr>\n",
       "    <tr>\n",
       "      <th>1</th>\n",
       "      <td>0.0</td>\n",
       "      <td>61.0</td>\n",
       "      <td>0</td>\n",
       "      <td>0</td>\n",
       "      <td>1.0</td>\n",
       "      <td>3.0</td>\n",
       "      <td>0.0</td>\n",
       "      <td>202.21</td>\n",
       "      <td>28.893237</td>\n",
       "      <td>2.0</td>\n",
       "      <td>1</td>\n",
       "    </tr>\n",
       "    <tr>\n",
       "      <th>2</th>\n",
       "      <td>1.0</td>\n",
       "      <td>80.0</td>\n",
       "      <td>0</td>\n",
       "      <td>1</td>\n",
       "      <td>1.0</td>\n",
       "      <td>2.0</td>\n",
       "      <td>0.0</td>\n",
       "      <td>105.92</td>\n",
       "      <td>32.500000</td>\n",
       "      <td>2.0</td>\n",
       "      <td>1</td>\n",
       "    </tr>\n",
       "    <tr>\n",
       "      <th>3</th>\n",
       "      <td>0.0</td>\n",
       "      <td>49.0</td>\n",
       "      <td>0</td>\n",
       "      <td>0</td>\n",
       "      <td>1.0</td>\n",
       "      <td>2.0</td>\n",
       "      <td>1.0</td>\n",
       "      <td>171.23</td>\n",
       "      <td>34.400000</td>\n",
       "      <td>3.0</td>\n",
       "      <td>1</td>\n",
       "    </tr>\n",
       "    <tr>\n",
       "      <th>4</th>\n",
       "      <td>0.0</td>\n",
       "      <td>79.0</td>\n",
       "      <td>1</td>\n",
       "      <td>0</td>\n",
       "      <td>1.0</td>\n",
       "      <td>3.0</td>\n",
       "      <td>0.0</td>\n",
       "      <td>174.12</td>\n",
       "      <td>24.000000</td>\n",
       "      <td>2.0</td>\n",
       "      <td>1</td>\n",
       "    </tr>\n",
       "    <tr>\n",
       "      <th>...</th>\n",
       "      <td>...</td>\n",
       "      <td>...</td>\n",
       "      <td>...</td>\n",
       "      <td>...</td>\n",
       "      <td>...</td>\n",
       "      <td>...</td>\n",
       "      <td>...</td>\n",
       "      <td>...</td>\n",
       "      <td>...</td>\n",
       "      <td>...</td>\n",
       "      <td>...</td>\n",
       "    </tr>\n",
       "    <tr>\n",
       "      <th>5105</th>\n",
       "      <td>0.0</td>\n",
       "      <td>80.0</td>\n",
       "      <td>1</td>\n",
       "      <td>0</td>\n",
       "      <td>1.0</td>\n",
       "      <td>2.0</td>\n",
       "      <td>1.0</td>\n",
       "      <td>83.75</td>\n",
       "      <td>28.893237</td>\n",
       "      <td>2.0</td>\n",
       "      <td>0</td>\n",
       "    </tr>\n",
       "    <tr>\n",
       "      <th>5106</th>\n",
       "      <td>0.0</td>\n",
       "      <td>81.0</td>\n",
       "      <td>0</td>\n",
       "      <td>0</td>\n",
       "      <td>1.0</td>\n",
       "      <td>3.0</td>\n",
       "      <td>1.0</td>\n",
       "      <td>125.20</td>\n",
       "      <td>40.000000</td>\n",
       "      <td>2.0</td>\n",
       "      <td>0</td>\n",
       "    </tr>\n",
       "    <tr>\n",
       "      <th>5107</th>\n",
       "      <td>0.0</td>\n",
       "      <td>35.0</td>\n",
       "      <td>0</td>\n",
       "      <td>0</td>\n",
       "      <td>1.0</td>\n",
       "      <td>3.0</td>\n",
       "      <td>0.0</td>\n",
       "      <td>82.99</td>\n",
       "      <td>30.600000</td>\n",
       "      <td>2.0</td>\n",
       "      <td>0</td>\n",
       "    </tr>\n",
       "    <tr>\n",
       "      <th>5108</th>\n",
       "      <td>1.0</td>\n",
       "      <td>51.0</td>\n",
       "      <td>0</td>\n",
       "      <td>0</td>\n",
       "      <td>1.0</td>\n",
       "      <td>2.0</td>\n",
       "      <td>0.0</td>\n",
       "      <td>166.29</td>\n",
       "      <td>25.600000</td>\n",
       "      <td>1.0</td>\n",
       "      <td>0</td>\n",
       "    </tr>\n",
       "    <tr>\n",
       "      <th>5109</th>\n",
       "      <td>0.0</td>\n",
       "      <td>44.0</td>\n",
       "      <td>0</td>\n",
       "      <td>0</td>\n",
       "      <td>1.0</td>\n",
       "      <td>0.0</td>\n",
       "      <td>1.0</td>\n",
       "      <td>85.28</td>\n",
       "      <td>26.200000</td>\n",
       "      <td>0.0</td>\n",
       "      <td>0</td>\n",
       "    </tr>\n",
       "  </tbody>\n",
       "</table>\n",
       "<p>5110 rows × 11 columns</p>\n",
       "</div>"
      ],
      "text/plain": [
       "      gender   age  hypertension  heart_disease  ever_married  work_type  \\\n",
       "0        1.0  67.0             0              1           1.0        2.0   \n",
       "1        0.0  61.0             0              0           1.0        3.0   \n",
       "2        1.0  80.0             0              1           1.0        2.0   \n",
       "3        0.0  49.0             0              0           1.0        2.0   \n",
       "4        0.0  79.0             1              0           1.0        3.0   \n",
       "...      ...   ...           ...            ...           ...        ...   \n",
       "5105     0.0  80.0             1              0           1.0        2.0   \n",
       "5106     0.0  81.0             0              0           1.0        3.0   \n",
       "5107     0.0  35.0             0              0           1.0        3.0   \n",
       "5108     1.0  51.0             0              0           1.0        2.0   \n",
       "5109     0.0  44.0             0              0           1.0        0.0   \n",
       "\n",
       "      Residence_type  avg_glucose_level        bmi  smoking_status  stroke  \n",
       "0                1.0             228.69  36.600000             1.0       1  \n",
       "1                0.0             202.21  28.893237             2.0       1  \n",
       "2                0.0             105.92  32.500000             2.0       1  \n",
       "3                1.0             171.23  34.400000             3.0       1  \n",
       "4                0.0             174.12  24.000000             2.0       1  \n",
       "...              ...                ...        ...             ...     ...  \n",
       "5105             1.0              83.75  28.893237             2.0       0  \n",
       "5106             1.0             125.20  40.000000             2.0       0  \n",
       "5107             0.0              82.99  30.600000             2.0       0  \n",
       "5108             0.0             166.29  25.600000             1.0       0  \n",
       "5109             1.0              85.28  26.200000             0.0       0  \n",
       "\n",
       "[5110 rows x 11 columns]"
      ]
     },
     "execution_count": 36,
     "metadata": {},
     "output_type": "execute_result"
    }
   ],
   "source": [
    "df"
   ]
  },
  {
   "cell_type": "markdown",
   "id": "dd264edf",
   "metadata": {},
   "source": [
    "### skewness removal"
   ]
  },
  {
   "cell_type": "code",
   "execution_count": 37,
   "id": "376d28ea",
   "metadata": {},
   "outputs": [
    {
     "name": "stdout",
     "output_type": "stream",
     "text": [
      "Index(['gender', 'age', 'hypertension', 'heart_disease', 'ever_married',\n",
      "       'work_type', 'Residence_type', 'avg_glucose_level', 'bmi',\n",
      "       'smoking_status', 'stroke'],\n",
      "      dtype='object')\n"
     ]
    }
   ],
   "source": [
    "from scipy.stats import skew\n",
    "\n",
    "colname=df.select_dtypes([\"int\",\"float\"]).columns\n",
    "print(colname)"
   ]
  },
  {
   "cell_type": "code",
   "execution_count": 38,
   "id": "d09e5759",
   "metadata": {},
   "outputs": [
    {
     "name": "stdout",
     "output_type": "stream",
     "text": [
      "gender\n",
      "0.35290826168415185\n"
     ]
    },
    {
     "data": {
      "image/png": "[encoded data removed]",
      "text/plain": [
       "<Figure size 432x288 with 1 Axes>"
      ]
     },
     "metadata": {
      "needs_background": "light"
     },
     "output_type": "display_data"
    },
    {
     "name": "stdout",
     "output_type": "stream",
     "text": [
      "age\n",
      "-0.1370190866396024\n"
     ]
    },
    {
     "data": {
      "image/png": "[encoded data removed]",
      "text/plain": [
       "<Figure size 432x288 with 1 Axes>"
      ]
     },
     "metadata": {
      "needs_background": "light"
     },
     "output_type": "display_data"
    },
    {
     "name": "stdout",
     "output_type": "stream",
     "text": [
      "hypertension\n",
      "2.714594511421973\n"
     ]
    },
    {
     "data": {
      "image/png": "[encoded data removed]",
      "text/plain": [
       "<Figure size 432x288 with 1 Axes>"
      ]
     },
     "metadata": {
      "needs_background": "light"
     },
     "output_type": "display_data"
    },
    {
     "name": "stdout",
     "output_type": "stream",
     "text": [
      "heart_disease\n",
      "3.9460851899886302\n"
     ]
    },
    {
     "data": {
      "image/png": "[encoded data removed]",
      "text/plain": [
       "<Figure size 432x288 with 1 Axes>"
      ]
     },
     "metadata": {
      "needs_background": "light"
     },
     "output_type": "display_data"
    },
    {
     "name": "stdout",
     "output_type": "stream",
     "text": [
      "ever_married\n",
      "-0.6575521915370907\n"
     ]
    },
    {
     "data": {
      "image/png": "[encoded data removed]",
      "text/plain": [
       "<Figure size 432x288 with 1 Axes>"
      ]
     },
     "metadata": {
      "needs_background": "light"
     },
     "output_type": "display_data"
    },
    {
     "name": "stdout",
     "output_type": "stream",
     "text": [
      "work_type\n",
      "-0.30852688017717733\n"
     ]
    },
    {
     "data": {
      "image/png": "[encoded data removed]",
      "text/plain": [
       "<Figure size 432x288 with 1 Axes>"
      ]
     },
     "metadata": {
      "needs_background": "light"
     },
     "output_type": "display_data"
    },
    {
     "name": "stdout",
     "output_type": "stream",
     "text": [
      "Residence_type\n",
      "-0.03209806643844619\n"
     ]
    },
    {
     "data": {
      "image/png": "[encoded data removed]",
      "text/plain": [
       "<Figure size 432x288 with 1 Axes>"
      ]
     },
     "metadata": {
      "needs_background": "light"
     },
     "output_type": "display_data"
    },
    {
     "name": "stdout",
     "output_type": "stream",
     "text": [
      "avg_glucose_level\n",
      "1.571822297397199\n"
     ]
    },
    {
     "data": {
      "image/png": "[encoded data removed]",
      "text/plain": [
       "<Figure size 432x288 with 1 Axes>"
      ]
     },
     "metadata": {
      "needs_background": "light"
     },
     "output_type": "display_data"
    },
    {
     "name": "stdout",
     "output_type": "stream",
     "text": [
      "bmi\n",
      "1.0763999841401004\n"
     ]
    },
    {
     "data": {
      "image/png": "[encoded data removed]",
      "text/plain": [
       "<Figure size 432x288 with 1 Axes>"
      ]
     },
     "metadata": {
      "needs_background": "light"
     },
     "output_type": "display_data"
    },
    {
     "name": "stdout",
     "output_type": "stream",
     "text": [
      "smoking_status\n",
      "-0.03922291694728357\n"
     ]
    },
    {
     "data": {
      "image/png": "[encoded data removed]",
      "text/plain": [
       "<Figure size 432x288 with 1 Axes>"
      ]
     },
     "metadata": {
      "needs_background": "light"
     },
     "output_type": "display_data"
    },
    {
     "name": "stdout",
     "output_type": "stream",
     "text": [
      "stroke\n",
      "4.192053480263753\n"
     ]
    },
    {
     "data": {
      "image/png": "[encoded data removed]",
      "text/plain": [
       "<Figure size 432x288 with 1 Axes>"
      ]
     },
     "metadata": {
      "needs_background": "light"
     },
     "output_type": "display_data"
    }
   ],
   "source": [
    "for col in df[colname]:\n",
    "    print(col)\n",
    "    print(skew(df[col]))\n",
    "    \n",
    "    plt.figure()\n",
    "    sns.distplot(df[col])\n",
    "    plt.show()"
   ]
  },
  {
   "cell_type": "code",
   "execution_count": 39,
   "id": "7d82ae2f",
   "metadata": {},
   "outputs": [
    {
     "data": {
      "text/html": [
       "<style type=\"text/css\">\n",
       "#T_41219_row0_col0, #T_41219_row1_col1, #T_41219_row2_col2, #T_41219_row3_col3, #T_41219_row4_col4, #T_41219_row5_col5, #T_41219_row6_col6, #T_41219_row7_col7, #T_41219_row8_col8, #T_41219_row9_col9, #T_41219_row10_col10 {\n",
       "  background-color: #023858;\n",
       "  color: #f1f1f1;\n",
       "}\n",
       "#T_41219_row0_col1, #T_41219_row3_col5 {\n",
       "  background-color: #d2d2e7;\n",
       "  color: #000000;\n",
       "}\n",
       "#T_41219_row0_col2, #T_41219_row8_col10, #T_41219_row10_col0 {\n",
       "  background-color: #f5eef6;\n",
       "  color: #000000;\n",
       "}\n",
       "#T_41219_row0_col3, #T_41219_row5_col0, #T_41219_row7_col0 {\n",
       "  background-color: #eee9f3;\n",
       "  color: #000000;\n",
       "}\n",
       "#T_41219_row0_col4 {\n",
       "  background-color: #d3d4e7;\n",
       "  color: #000000;\n",
       "}\n",
       "#T_41219_row0_col5 {\n",
       "  background-color: #bdc8e1;\n",
       "  color: #000000;\n",
       "}\n",
       "#T_41219_row0_col6, #T_41219_row1_col5, #T_41219_row2_col6, #T_41219_row5_col1, #T_41219_row5_col2, #T_41219_row5_col3, #T_41219_row5_col4, #T_41219_row5_col6, #T_41219_row5_col7, #T_41219_row5_col8, #T_41219_row5_col9, #T_41219_row5_col10, #T_41219_row7_col6, #T_41219_row9_col0 {\n",
       "  background-color: #fff7fb;\n",
       "  color: #000000;\n",
       "}\n",
       "#T_41219_row0_col7 {\n",
       "  background-color: #f0eaf4;\n",
       "  color: #000000;\n",
       "}\n",
       "#T_41219_row0_col8, #T_41219_row2_col7, #T_41219_row8_col7 {\n",
       "  background-color: #d9d8ea;\n",
       "  color: #000000;\n",
       "}\n",
       "#T_41219_row0_col9, #T_41219_row7_col3 {\n",
       "  background-color: #dfddec;\n",
       "  color: #000000;\n",
       "}\n",
       "#T_41219_row0_col10, #T_41219_row6_col2, #T_41219_row9_col5 {\n",
       "  background-color: #f9f2f8;\n",
       "  color: #000000;\n",
       "}\n",
       "#T_41219_row1_col0, #T_41219_row8_col0 {\n",
       "  background-color: #faf3f9;\n",
       "  color: #000000;\n",
       "}\n",
       "#T_41219_row1_col2 {\n",
       "  background-color: #bcc7e1;\n",
       "  color: #000000;\n",
       "}\n",
       "#T_41219_row1_col3, #T_41219_row7_col9 {\n",
       "  background-color: #c5cce3;\n",
       "  color: #000000;\n",
       "}\n",
       "#T_41219_row1_col4, #T_41219_row4_col1 {\n",
       "  background-color: #056dac;\n",
       "  color: #f1f1f1;\n",
       "}\n",
       "#T_41219_row1_col6, #T_41219_row10_col6 {\n",
       "  background-color: #fcf4fa;\n",
       "  color: #000000;\n",
       "}\n",
       "#T_41219_row1_col7, #T_41219_row6_col1 {\n",
       "  background-color: #c8cde4;\n",
       "  color: #000000;\n",
       "}\n",
       "#T_41219_row1_col8 {\n",
       "  background-color: #7bacd1;\n",
       "  color: #f1f1f1;\n",
       "}\n",
       "#T_41219_row1_col9 {\n",
       "  background-color: #8eb3d5;\n",
       "  color: #000000;\n",
       "}\n",
       "#T_41219_row1_col10 {\n",
       "  background-color: #cacee5;\n",
       "  color: #000000;\n",
       "}\n",
       "#T_41219_row2_col0 {\n",
       "  background-color: #f3edf5;\n",
       "  color: #000000;\n",
       "}\n",
       "#T_41219_row2_col1 {\n",
       "  background-color: #81aed2;\n",
       "  color: #f1f1f1;\n",
       "}\n",
       "#T_41219_row2_col3 {\n",
       "  background-color: #ebe6f2;\n",
       "  color: #000000;\n",
       "}\n",
       "#T_41219_row2_col4 {\n",
       "  background-color: #a4bcda;\n",
       "  color: #000000;\n",
       "}\n",
       "#T_41219_row2_col5, #T_41219_row6_col8, #T_41219_row7_col5 {\n",
       "  background-color: #d5d5e8;\n",
       "  color: #000000;\n",
       "}\n",
       "#T_41219_row2_col8 {\n",
       "  background-color: #adc1dd;\n",
       "  color: #000000;\n",
       "}\n",
       "#T_41219_row2_col9 {\n",
       "  background-color: #b9c6e0;\n",
       "  color: #000000;\n",
       "}\n",
       "#T_41219_row2_col10, #T_41219_row9_col2 {\n",
       "  background-color: #e6e2ef;\n",
       "  color: #000000;\n",
       "}\n",
       "#T_41219_row3_col0, #T_41219_row4_col3 {\n",
       "  background-color: #e9e5f1;\n",
       "  color: #000000;\n",
       "}\n",
       "#T_41219_row3_col1, #T_41219_row9_col1 {\n",
       "  background-color: #84b0d3;\n",
       "  color: #f1f1f1;\n",
       "}\n",
       "#T_41219_row3_col2 {\n",
       "  background-color: #e7e3f0;\n",
       "  color: #000000;\n",
       "}\n",
       "#T_41219_row3_col4 {\n",
       "  background-color: #b0c2de;\n",
       "  color: #000000;\n",
       "}\n",
       "#T_41219_row3_col6 {\n",
       "  background-color: #fef6fa;\n",
       "  color: #000000;\n",
       "}\n",
       "#T_41219_row3_col7, #T_41219_row8_col2 {\n",
       "  background-color: #dbdaeb;\n",
       "  color: #000000;\n",
       "}\n",
       "#T_41219_row3_col8, #T_41219_row6_col5, #T_41219_row10_col8 {\n",
       "  background-color: #cdd0e5;\n",
       "  color: #000000;\n",
       "}\n",
       "#T_41219_row3_col9 {\n",
       "  background-color: #c9cee4;\n",
       "  color: #000000;\n",
       "}\n",
       "#T_41219_row3_col10 {\n",
       "  background-color: #e4e1ef;\n",
       "  color: #000000;\n",
       "}\n",
       "#T_41219_row4_col0, #T_41219_row6_col3 {\n",
       "  background-color: #fbf3f9;\n",
       "  color: #000000;\n",
       "}\n",
       "#T_41219_row4_col2 {\n",
       "  background-color: #dad9ea;\n",
       "  color: #000000;\n",
       "}\n",
       "#T_41219_row4_col5, #T_41219_row8_col6 {\n",
       "  background-color: #fef6fb;\n",
       "  color: #000000;\n",
       "}\n",
       "#T_41219_row4_col6, #T_41219_row9_col6 {\n",
       "  background-color: #fdf5fa;\n",
       "  color: #000000;\n",
       "}\n",
       "#T_41219_row4_col7 {\n",
       "  background-color: #dcdaeb;\n",
       "  color: #000000;\n",
       "}\n",
       "#T_41219_row4_col8 {\n",
       "  background-color: #78abd0;\n",
       "  color: #f1f1f1;\n",
       "}\n",
       "#T_41219_row4_col9 {\n",
       "  background-color: #8fb4d6;\n",
       "  color: #000000;\n",
       "}\n",
       "#T_41219_row4_col10 {\n",
       "  background-color: #eae6f1;\n",
       "  color: #000000;\n",
       "}\n",
       "#T_41219_row6_col0, #T_41219_row9_col10 {\n",
       "  background-color: #f7f0f7;\n",
       "  color: #000000;\n",
       "}\n",
       "#T_41219_row6_col4 {\n",
       "  background-color: #cccfe5;\n",
       "  color: #000000;\n",
       "}\n",
       "#T_41219_row6_col7, #T_41219_row6_col10, #T_41219_row8_col5 {\n",
       "  background-color: #f8f1f8;\n",
       "  color: #000000;\n",
       "}\n",
       "#T_41219_row6_col9, #T_41219_row10_col5 {\n",
       "  background-color: #d2d3e7;\n",
       "  color: #000000;\n",
       "}\n",
       "#T_41219_row7_col1 {\n",
       "  background-color: #8cb3d5;\n",
       "  color: #000000;\n",
       "}\n",
       "#T_41219_row7_col2 {\n",
       "  background-color: #d8d7e9;\n",
       "  color: #000000;\n",
       "}\n",
       "#T_41219_row7_col4 {\n",
       "  background-color: #a5bddb;\n",
       "  color: #000000;\n",
       "}\n",
       "#T_41219_row7_col8 {\n",
       "  background-color: #abbfdc;\n",
       "  color: #000000;\n",
       "}\n",
       "#T_41219_row7_col10, #T_41219_row10_col3 {\n",
       "  background-color: #e5e1ef;\n",
       "  color: #000000;\n",
       "}\n",
       "#T_41219_row8_col1 {\n",
       "  background-color: #71a8ce;\n",
       "  color: #f1f1f1;\n",
       "}\n",
       "#T_41219_row8_col3 {\n",
       "  background-color: #f5eff6;\n",
       "  color: #000000;\n",
       "}\n",
       "#T_41219_row8_col4 {\n",
       "  background-color: #6fa7ce;\n",
       "  color: #f1f1f1;\n",
       "}\n",
       "#T_41219_row8_col9, #T_41219_row9_col8 {\n",
       "  background-color: #9cb9d9;\n",
       "  color: #000000;\n",
       "}\n",
       "#T_41219_row9_col3 {\n",
       "  background-color: #f4edf6;\n",
       "  color: #000000;\n",
       "}\n",
       "#T_41219_row9_col4 {\n",
       "  background-color: #88b1d4;\n",
       "  color: #000000;\n",
       "}\n",
       "#T_41219_row9_col7 {\n",
       "  background-color: #efe9f3;\n",
       "  color: #000000;\n",
       "}\n",
       "#T_41219_row10_col1 {\n",
       "  background-color: #89b1d4;\n",
       "  color: #000000;\n",
       "}\n",
       "#T_41219_row10_col2 {\n",
       "  background-color: #e2dfee;\n",
       "  color: #000000;\n",
       "}\n",
       "#T_41219_row10_col4 {\n",
       "  background-color: #b1c2de;\n",
       "  color: #000000;\n",
       "}\n",
       "#T_41219_row10_col7 {\n",
       "  background-color: #e1dfed;\n",
       "  color: #000000;\n",
       "}\n",
       "#T_41219_row10_col9 {\n",
       "  background-color: #ced0e6;\n",
       "  color: #000000;\n",
       "}\n",
       "</style>\n",
       "<table id=\"T_41219\">\n",
       "  <thead>\n",
       "    <tr>\n",
       "      <th class=\"blank level0\" >&nbsp;</th>\n",
       "      <th id=\"T_41219_level0_col0\" class=\"col_heading level0 col0\" >gender</th>\n",
       "      <th id=\"T_41219_level0_col1\" class=\"col_heading level0 col1\" >age</th>\n",
       "      <th id=\"T_41219_level0_col2\" class=\"col_heading level0 col2\" >hypertension</th>\n",
       "      <th id=\"T_41219_level0_col3\" class=\"col_heading level0 col3\" >heart_disease</th>\n",
       "      <th id=\"T_41219_level0_col4\" class=\"col_heading level0 col4\" >ever_married</th>\n",
       "      <th id=\"T_41219_level0_col5\" class=\"col_heading level0 col5\" >work_type</th>\n",
       "      <th id=\"T_41219_level0_col6\" class=\"col_heading level0 col6\" >Residence_type</th>\n",
       "      <th id=\"T_41219_level0_col7\" class=\"col_heading level0 col7\" >avg_glucose_level</th>\n",
       "      <th id=\"T_41219_level0_col8\" class=\"col_heading level0 col8\" >bmi</th>\n",
       "      <th id=\"T_41219_level0_col9\" class=\"col_heading level0 col9\" >smoking_status</th>\n",
       "      <th id=\"T_41219_level0_col10\" class=\"col_heading level0 col10\" >stroke</th>\n",
       "    </tr>\n",
       "  </thead>\n",
       "  <tbody>\n",
       "    <tr>\n",
       "      <th id=\"T_41219_level0_row0\" class=\"row_heading level0 row0\" >gender</th>\n",
       "      <td id=\"T_41219_row0_col0\" class=\"data row0 col0\" >1.000000</td>\n",
       "      <td id=\"T_41219_row0_col1\" class=\"data row0 col1\" >-0.028202</td>\n",
       "      <td id=\"T_41219_row0_col2\" class=\"data row0 col2\" >0.020994</td>\n",
       "      <td id=\"T_41219_row0_col3\" class=\"data row0 col3\" >0.085447</td>\n",
       "      <td id=\"T_41219_row0_col4\" class=\"data row0 col4\" >-0.031005</td>\n",
       "      <td id=\"T_41219_row0_col5\" class=\"data row0 col5\" >0.056422</td>\n",
       "      <td id=\"T_41219_row0_col6\" class=\"data row0 col6\" >-0.006738</td>\n",
       "      <td id=\"T_41219_row0_col7\" class=\"data row0 col7\" >0.055180</td>\n",
       "      <td id=\"T_41219_row0_col8\" class=\"data row0 col8\" >-0.026109</td>\n",
       "      <td id=\"T_41219_row0_col9\" class=\"data row0 col9\" >-0.062581</td>\n",
       "      <td id=\"T_41219_row0_col10\" class=\"data row0 col10\" >0.008929</td>\n",
       "    </tr>\n",
       "    <tr>\n",
       "      <th id=\"T_41219_level0_row1\" class=\"row_heading level0 row1\" >age</th>\n",
       "      <td id=\"T_41219_row1_col0\" class=\"data row1 col0\" >-0.028202</td>\n",
       "      <td id=\"T_41219_row1_col1\" class=\"data row1 col1\" >1.000000</td>\n",
       "      <td id=\"T_41219_row1_col2\" class=\"data row1 col2\" >0.276398</td>\n",
       "      <td id=\"T_41219_row1_col3\" class=\"data row1 col3\" >0.263796</td>\n",
       "      <td id=\"T_41219_row1_col4\" class=\"data row1 col4\" >0.679125</td>\n",
       "      <td id=\"T_41219_row1_col5\" class=\"data row1 col5\" >-0.361642</td>\n",
       "      <td id=\"T_41219_row1_col6\" class=\"data row1 col6\" >0.014180</td>\n",
       "      <td id=\"T_41219_row1_col7\" class=\"data row1 col7\" >0.238171</td>\n",
       "      <td id=\"T_41219_row1_col8\" class=\"data row1 col8\" >0.325942</td>\n",
       "      <td id=\"T_41219_row1_col9\" class=\"data row1 col9\" >0.265199</td>\n",
       "      <td id=\"T_41219_row1_col10\" class=\"data row1 col10\" >0.245257</td>\n",
       "    </tr>\n",
       "    <tr>\n",
       "      <th id=\"T_41219_level0_row2\" class=\"row_heading level0 row2\" >hypertension</th>\n",
       "      <td id=\"T_41219_row2_col0\" class=\"data row2 col0\" >0.020994</td>\n",
       "      <td id=\"T_41219_row2_col1\" class=\"data row2 col1\" >0.276398</td>\n",
       "      <td id=\"T_41219_row2_col2\" class=\"data row2 col2\" >1.000000</td>\n",
       "      <td id=\"T_41219_row2_col3\" class=\"data row2 col3\" >0.108306</td>\n",
       "      <td id=\"T_41219_row2_col4\" class=\"data row2 col4\" >0.164243</td>\n",
       "      <td id=\"T_41219_row2_col5\" class=\"data row2 col5\" >-0.051761</td>\n",
       "      <td id=\"T_41219_row2_col6\" class=\"data row2 col6\" >-0.007913</td>\n",
       "      <td id=\"T_41219_row2_col7\" class=\"data row2 col7\" >0.174474</td>\n",
       "      <td id=\"T_41219_row2_col8\" class=\"data row2 col8\" >0.160189</td>\n",
       "      <td id=\"T_41219_row2_col9\" class=\"data row2 col9\" >0.111038</td>\n",
       "      <td id=\"T_41219_row2_col10\" class=\"data row2 col10\" >0.127904</td>\n",
       "    </tr>\n",
       "    <tr>\n",
       "      <th id=\"T_41219_level0_row3\" class=\"row_heading level0 row3\" >heart_disease</th>\n",
       "      <td id=\"T_41219_row3_col0\" class=\"data row3 col0\" >0.085447</td>\n",
       "      <td id=\"T_41219_row3_col1\" class=\"data row3 col1\" >0.263796</td>\n",
       "      <td id=\"T_41219_row3_col2\" class=\"data row3 col2\" >0.108306</td>\n",
       "      <td id=\"T_41219_row3_col3\" class=\"data row3 col3\" >1.000000</td>\n",
       "      <td id=\"T_41219_row3_col4\" class=\"data row3 col4\" >0.114644</td>\n",
       "      <td id=\"T_41219_row3_col5\" class=\"data row3 col5\" >-0.028023</td>\n",
       "      <td id=\"T_41219_row3_col6\" class=\"data row3 col6\" >0.003092</td>\n",
       "      <td id=\"T_41219_row3_col7\" class=\"data row3 col7\" >0.161857</td>\n",
       "      <td id=\"T_41219_row3_col8\" class=\"data row3 col8\" >0.038899</td>\n",
       "      <td id=\"T_41219_row3_col9\" class=\"data row3 col9\" >0.048460</td>\n",
       "      <td id=\"T_41219_row3_col10\" class=\"data row3 col10\" >0.134914</td>\n",
       "    </tr>\n",
       "    <tr>\n",
       "      <th id=\"T_41219_level0_row4\" class=\"row_heading level0 row4\" >ever_married</th>\n",
       "      <td id=\"T_41219_row4_col0\" class=\"data row4 col0\" >-0.031005</td>\n",
       "      <td id=\"T_41219_row4_col1\" class=\"data row4 col1\" >0.679125</td>\n",
       "      <td id=\"T_41219_row4_col2\" class=\"data row4 col2\" >0.164243</td>\n",
       "      <td id=\"T_41219_row4_col3\" class=\"data row4 col3\" >0.114644</td>\n",
       "      <td id=\"T_41219_row4_col4\" class=\"data row4 col4\" >1.000000</td>\n",
       "      <td id=\"T_41219_row4_col5\" class=\"data row4 col5\" >-0.352722</td>\n",
       "      <td id=\"T_41219_row4_col6\" class=\"data row4 col6\" >0.006261</td>\n",
       "      <td id=\"T_41219_row4_col7\" class=\"data row4 col7\" >0.155068</td>\n",
       "      <td id=\"T_41219_row4_col8\" class=\"data row4 col8\" >0.335705</td>\n",
       "      <td id=\"T_41219_row4_col9\" class=\"data row4 col9\" >0.259647</td>\n",
       "      <td id=\"T_41219_row4_col10\" class=\"data row4 col10\" >0.108340</td>\n",
       "    </tr>\n",
       "    <tr>\n",
       "      <th id=\"T_41219_level0_row5\" class=\"row_heading level0 row5\" >work_type</th>\n",
       "      <td id=\"T_41219_row5_col0\" class=\"data row5 col0\" >0.056422</td>\n",
       "      <td id=\"T_41219_row5_col1\" class=\"data row5 col1\" >-0.361642</td>\n",
       "      <td id=\"T_41219_row5_col2\" class=\"data row5 col2\" >-0.051761</td>\n",
       "      <td id=\"T_41219_row5_col3\" class=\"data row5 col3\" >-0.028023</td>\n",
       "      <td id=\"T_41219_row5_col4\" class=\"data row5 col4\" >-0.352722</td>\n",
       "      <td id=\"T_41219_row5_col5\" class=\"data row5 col5\" >1.000000</td>\n",
       "      <td id=\"T_41219_row5_col6\" class=\"data row5 col6\" >-0.007316</td>\n",
       "      <td id=\"T_41219_row5_col7\" class=\"data row5 col7\" >-0.050513</td>\n",
       "      <td id=\"T_41219_row5_col8\" class=\"data row5 col8\" >-0.299448</td>\n",
       "      <td id=\"T_41219_row5_col9\" class=\"data row5 col9\" >-0.305927</td>\n",
       "      <td id=\"T_41219_row5_col10\" class=\"data row5 col10\" >-0.032316</td>\n",
       "    </tr>\n",
       "    <tr>\n",
       "      <th id=\"T_41219_level0_row6\" class=\"row_heading level0 row6\" >Residence_type</th>\n",
       "      <td id=\"T_41219_row6_col0\" class=\"data row6 col0\" >-0.006738</td>\n",
       "      <td id=\"T_41219_row6_col1\" class=\"data row6 col1\" >0.014180</td>\n",
       "      <td id=\"T_41219_row6_col2\" class=\"data row6 col2\" >-0.007913</td>\n",
       "      <td id=\"T_41219_row6_col3\" class=\"data row6 col3\" >0.003092</td>\n",
       "      <td id=\"T_41219_row6_col4\" class=\"data row6 col4\" >0.006261</td>\n",
       "      <td id=\"T_41219_row6_col5\" class=\"data row6 col5\" >-0.007316</td>\n",
       "      <td id=\"T_41219_row6_col6\" class=\"data row6 col6\" >1.000000</td>\n",
       "      <td id=\"T_41219_row6_col7\" class=\"data row6 col7\" >-0.004946</td>\n",
       "      <td id=\"T_41219_row6_col8\" class=\"data row6 col8\" >-0.000120</td>\n",
       "      <td id=\"T_41219_row6_col9\" class=\"data row6 col9\" >0.008237</td>\n",
       "      <td id=\"T_41219_row6_col10\" class=\"data row6 col10\" >0.015458</td>\n",
       "    </tr>\n",
       "    <tr>\n",
       "      <th id=\"T_41219_level0_row7\" class=\"row_heading level0 row7\" >avg_glucose_level</th>\n",
       "      <td id=\"T_41219_row7_col0\" class=\"data row7 col0\" >0.055180</td>\n",
       "      <td id=\"T_41219_row7_col1\" class=\"data row7 col1\" >0.238171</td>\n",
       "      <td id=\"T_41219_row7_col2\" class=\"data row7 col2\" >0.174474</td>\n",
       "      <td id=\"T_41219_row7_col3\" class=\"data row7 col3\" >0.161857</td>\n",
       "      <td id=\"T_41219_row7_col4\" class=\"data row7 col4\" >0.155068</td>\n",
       "      <td id=\"T_41219_row7_col5\" class=\"data row7 col5\" >-0.050513</td>\n",
       "      <td id=\"T_41219_row7_col6\" class=\"data row7 col6\" >-0.004946</td>\n",
       "      <td id=\"T_41219_row7_col7\" class=\"data row7 col7\" >1.000000</td>\n",
       "      <td id=\"T_41219_row7_col8\" class=\"data row7 col8\" >0.168751</td>\n",
       "      <td id=\"T_41219_row7_col9\" class=\"data row7 col9\" >0.063437</td>\n",
       "      <td id=\"T_41219_row7_col10\" class=\"data row7 col10\" >0.131945</td>\n",
       "    </tr>\n",
       "    <tr>\n",
       "      <th id=\"T_41219_level0_row8\" class=\"row_heading level0 row8\" >bmi</th>\n",
       "      <td id=\"T_41219_row8_col0\" class=\"data row8 col0\" >-0.026109</td>\n",
       "      <td id=\"T_41219_row8_col1\" class=\"data row8 col1\" >0.325942</td>\n",
       "      <td id=\"T_41219_row8_col2\" class=\"data row8 col2\" >0.160189</td>\n",
       "      <td id=\"T_41219_row8_col3\" class=\"data row8 col3\" >0.038899</td>\n",
       "      <td id=\"T_41219_row8_col4\" class=\"data row8 col4\" >0.335705</td>\n",
       "      <td id=\"T_41219_row8_col5\" class=\"data row8 col5\" >-0.299448</td>\n",
       "      <td id=\"T_41219_row8_col6\" class=\"data row8 col6\" >-0.000120</td>\n",
       "      <td id=\"T_41219_row8_col7\" class=\"data row8 col7\" >0.168751</td>\n",
       "      <td id=\"T_41219_row8_col8\" class=\"data row8 col8\" >1.000000</td>\n",
       "      <td id=\"T_41219_row8_col9\" class=\"data row8 col9\" >0.219148</td>\n",
       "      <td id=\"T_41219_row8_col10\" class=\"data row8 col10\" >0.038947</td>\n",
       "    </tr>\n",
       "    <tr>\n",
       "      <th id=\"T_41219_level0_row9\" class=\"row_heading level0 row9\" >smoking_status</th>\n",
       "      <td id=\"T_41219_row9_col0\" class=\"data row9 col0\" >-0.062581</td>\n",
       "      <td id=\"T_41219_row9_col1\" class=\"data row9 col1\" >0.265199</td>\n",
       "      <td id=\"T_41219_row9_col2\" class=\"data row9 col2\" >0.111038</td>\n",
       "      <td id=\"T_41219_row9_col3\" class=\"data row9 col3\" >0.048460</td>\n",
       "      <td id=\"T_41219_row9_col4\" class=\"data row9 col4\" >0.259647</td>\n",
       "      <td id=\"T_41219_row9_col5\" class=\"data row9 col5\" >-0.305927</td>\n",
       "      <td id=\"T_41219_row9_col6\" class=\"data row9 col6\" >0.008237</td>\n",
       "      <td id=\"T_41219_row9_col7\" class=\"data row9 col7\" >0.063437</td>\n",
       "      <td id=\"T_41219_row9_col8\" class=\"data row9 col8\" >0.219148</td>\n",
       "      <td id=\"T_41219_row9_col9\" class=\"data row9 col9\" >1.000000</td>\n",
       "      <td id=\"T_41219_row9_col10\" class=\"data row9 col10\" >0.028123</td>\n",
       "    </tr>\n",
       "    <tr>\n",
       "      <th id=\"T_41219_level0_row10\" class=\"row_heading level0 row10\" >stroke</th>\n",
       "      <td id=\"T_41219_row10_col0\" class=\"data row10 col0\" >0.008929</td>\n",
       "      <td id=\"T_41219_row10_col1\" class=\"data row10 col1\" >0.245257</td>\n",
       "      <td id=\"T_41219_row10_col2\" class=\"data row10 col2\" >0.127904</td>\n",
       "      <td id=\"T_41219_row10_col3\" class=\"data row10 col3\" >0.134914</td>\n",
       "      <td id=\"T_41219_row10_col4\" class=\"data row10 col4\" >0.108340</td>\n",
       "      <td id=\"T_41219_row10_col5\" class=\"data row10 col5\" >-0.032316</td>\n",
       "      <td id=\"T_41219_row10_col6\" class=\"data row10 col6\" >0.015458</td>\n",
       "      <td id=\"T_41219_row10_col7\" class=\"data row10 col7\" >0.131945</td>\n",
       "      <td id=\"T_41219_row10_col8\" class=\"data row10 col8\" >0.038947</td>\n",
       "      <td id=\"T_41219_row10_col9\" class=\"data row10 col9\" >0.028123</td>\n",
       "      <td id=\"T_41219_row10_col10\" class=\"data row10 col10\" >1.000000</td>\n",
       "    </tr>\n",
       "  </tbody>\n",
       "</table>\n"
      ],
      "text/plain": [
       "<pandas.io.formats.style.Styler at 0x1d7b80ce2e0>"
      ]
     },
     "execution_count": 39,
     "metadata": {},
     "output_type": "execute_result"
    }
   ],
   "source": [
    "df.corr().style.background_gradient()"
   ]
  },
  {
   "cell_type": "code",
   "execution_count": 40,
   "id": "c25ead12",
   "metadata": {},
   "outputs": [],
   "source": [
    "# in the case of stroke dataset when i found out that co-relation is low and skewness is high \n",
    "# in the hypertension and avg_glocuse_level and bmi column but i think it is not necessary to remove skewness\n",
    "# beacuse it show continuous value and on the top of the hand it gives us the information about people \n",
    "# and people may differ person to person in glocuse level and bmi and hypertension"
   ]
  },
  {
   "cell_type": "markdown",
   "id": "7b071eb1",
   "metadata": {},
   "source": [
    "### split data into x and y"
   ]
  },
  {
   "cell_type": "code",
   "execution_count": 41,
   "id": "e2749c27",
   "metadata": {},
   "outputs": [
    {
     "data": {
      "text/html": [
       "<div>\n",
       "<style scoped>\n",
       "    .dataframe tbody tr th:only-of-type {\n",
       "        vertical-align: middle;\n",
       "    }\n",
       "\n",
       "    .dataframe tbody tr th {\n",
       "        vertical-align: top;\n",
       "    }\n",
       "\n",
       "    .dataframe thead th {\n",
       "        text-align: right;\n",
       "    }\n",
       "</style>\n",
       "<table border=\"1\" class=\"dataframe\">\n",
       "  <thead>\n",
       "    <tr style=\"text-align: right;\">\n",
       "      <th></th>\n",
       "      <th>gender</th>\n",
       "      <th>age</th>\n",
       "      <th>hypertension</th>\n",
       "      <th>heart_disease</th>\n",
       "      <th>ever_married</th>\n",
       "      <th>work_type</th>\n",
       "      <th>Residence_type</th>\n",
       "      <th>avg_glucose_level</th>\n",
       "      <th>bmi</th>\n",
       "      <th>smoking_status</th>\n",
       "    </tr>\n",
       "  </thead>\n",
       "  <tbody>\n",
       "    <tr>\n",
       "      <th>0</th>\n",
       "      <td>1.0</td>\n",
       "      <td>67.0</td>\n",
       "      <td>0</td>\n",
       "      <td>1</td>\n",
       "      <td>1.0</td>\n",
       "      <td>2.0</td>\n",
       "      <td>1.0</td>\n",
       "      <td>228.69</td>\n",
       "      <td>36.600000</td>\n",
       "      <td>1.0</td>\n",
       "    </tr>\n",
       "    <tr>\n",
       "      <th>1</th>\n",
       "      <td>0.0</td>\n",
       "      <td>61.0</td>\n",
       "      <td>0</td>\n",
       "      <td>0</td>\n",
       "      <td>1.0</td>\n",
       "      <td>3.0</td>\n",
       "      <td>0.0</td>\n",
       "      <td>202.21</td>\n",
       "      <td>28.893237</td>\n",
       "      <td>2.0</td>\n",
       "    </tr>\n",
       "    <tr>\n",
       "      <th>2</th>\n",
       "      <td>1.0</td>\n",
       "      <td>80.0</td>\n",
       "      <td>0</td>\n",
       "      <td>1</td>\n",
       "      <td>1.0</td>\n",
       "      <td>2.0</td>\n",
       "      <td>0.0</td>\n",
       "      <td>105.92</td>\n",
       "      <td>32.500000</td>\n",
       "      <td>2.0</td>\n",
       "    </tr>\n",
       "    <tr>\n",
       "      <th>3</th>\n",
       "      <td>0.0</td>\n",
       "      <td>49.0</td>\n",
       "      <td>0</td>\n",
       "      <td>0</td>\n",
       "      <td>1.0</td>\n",
       "      <td>2.0</td>\n",
       "      <td>1.0</td>\n",
       "      <td>171.23</td>\n",
       "      <td>34.400000</td>\n",
       "      <td>3.0</td>\n",
       "    </tr>\n",
       "    <tr>\n",
       "      <th>4</th>\n",
       "      <td>0.0</td>\n",
       "      <td>79.0</td>\n",
       "      <td>1</td>\n",
       "      <td>0</td>\n",
       "      <td>1.0</td>\n",
       "      <td>3.0</td>\n",
       "      <td>0.0</td>\n",
       "      <td>174.12</td>\n",
       "      <td>24.000000</td>\n",
       "      <td>2.0</td>\n",
       "    </tr>\n",
       "    <tr>\n",
       "      <th>...</th>\n",
       "      <td>...</td>\n",
       "      <td>...</td>\n",
       "      <td>...</td>\n",
       "      <td>...</td>\n",
       "      <td>...</td>\n",
       "      <td>...</td>\n",
       "      <td>...</td>\n",
       "      <td>...</td>\n",
       "      <td>...</td>\n",
       "      <td>...</td>\n",
       "    </tr>\n",
       "    <tr>\n",
       "      <th>5105</th>\n",
       "      <td>0.0</td>\n",
       "      <td>80.0</td>\n",
       "      <td>1</td>\n",
       "      <td>0</td>\n",
       "      <td>1.0</td>\n",
       "      <td>2.0</td>\n",
       "      <td>1.0</td>\n",
       "      <td>83.75</td>\n",
       "      <td>28.893237</td>\n",
       "      <td>2.0</td>\n",
       "    </tr>\n",
       "    <tr>\n",
       "      <th>5106</th>\n",
       "      <td>0.0</td>\n",
       "      <td>81.0</td>\n",
       "      <td>0</td>\n",
       "      <td>0</td>\n",
       "      <td>1.0</td>\n",
       "      <td>3.0</td>\n",
       "      <td>1.0</td>\n",
       "      <td>125.20</td>\n",
       "      <td>40.000000</td>\n",
       "      <td>2.0</td>\n",
       "    </tr>\n",
       "    <tr>\n",
       "      <th>5107</th>\n",
       "      <td>0.0</td>\n",
       "      <td>35.0</td>\n",
       "      <td>0</td>\n",
       "      <td>0</td>\n",
       "      <td>1.0</td>\n",
       "      <td>3.0</td>\n",
       "      <td>0.0</td>\n",
       "      <td>82.99</td>\n",
       "      <td>30.600000</td>\n",
       "      <td>2.0</td>\n",
       "    </tr>\n",
       "    <tr>\n",
       "      <th>5108</th>\n",
       "      <td>1.0</td>\n",
       "      <td>51.0</td>\n",
       "      <td>0</td>\n",
       "      <td>0</td>\n",
       "      <td>1.0</td>\n",
       "      <td>2.0</td>\n",
       "      <td>0.0</td>\n",
       "      <td>166.29</td>\n",
       "      <td>25.600000</td>\n",
       "      <td>1.0</td>\n",
       "    </tr>\n",
       "    <tr>\n",
       "      <th>5109</th>\n",
       "      <td>0.0</td>\n",
       "      <td>44.0</td>\n",
       "      <td>0</td>\n",
       "      <td>0</td>\n",
       "      <td>1.0</td>\n",
       "      <td>0.0</td>\n",
       "      <td>1.0</td>\n",
       "      <td>85.28</td>\n",
       "      <td>26.200000</td>\n",
       "      <td>0.0</td>\n",
       "    </tr>\n",
       "  </tbody>\n",
       "</table>\n",
       "<p>5110 rows × 10 columns</p>\n",
       "</div>"
      ],
      "text/plain": [
       "      gender   age  hypertension  heart_disease  ever_married  work_type  \\\n",
       "0        1.0  67.0             0              1           1.0        2.0   \n",
       "1        0.0  61.0             0              0           1.0        3.0   \n",
       "2        1.0  80.0             0              1           1.0        2.0   \n",
       "3        0.0  49.0             0              0           1.0        2.0   \n",
       "4        0.0  79.0             1              0           1.0        3.0   \n",
       "...      ...   ...           ...            ...           ...        ...   \n",
       "5105     0.0  80.0             1              0           1.0        2.0   \n",
       "5106     0.0  81.0             0              0           1.0        3.0   \n",
       "5107     0.0  35.0             0              0           1.0        3.0   \n",
       "5108     1.0  51.0             0              0           1.0        2.0   \n",
       "5109     0.0  44.0             0              0           1.0        0.0   \n",
       "\n",
       "      Residence_type  avg_glucose_level        bmi  smoking_status  \n",
       "0                1.0             228.69  36.600000             1.0  \n",
       "1                0.0             202.21  28.893237             2.0  \n",
       "2                0.0             105.92  32.500000             2.0  \n",
       "3                1.0             171.23  34.400000             3.0  \n",
       "4                0.0             174.12  24.000000             2.0  \n",
       "...              ...                ...        ...             ...  \n",
       "5105             1.0              83.75  28.893237             2.0  \n",
       "5106             1.0             125.20  40.000000             2.0  \n",
       "5107             0.0              82.99  30.600000             2.0  \n",
       "5108             0.0             166.29  25.600000             1.0  \n",
       "5109             1.0              85.28  26.200000             0.0  \n",
       "\n",
       "[5110 rows x 10 columns]"
      ]
     },
     "execution_count": 41,
     "metadata": {},
     "output_type": "execute_result"
    }
   ],
   "source": [
    "x=df.iloc[:,:-1]\n",
    "x"
   ]
  },
  {
   "cell_type": "code",
   "execution_count": 42,
   "id": "b9479be2",
   "metadata": {},
   "outputs": [
    {
     "data": {
      "text/plain": [
       "0       1\n",
       "1       1\n",
       "2       1\n",
       "3       1\n",
       "4       1\n",
       "       ..\n",
       "5105    0\n",
       "5106    0\n",
       "5107    0\n",
       "5108    0\n",
       "5109    0\n",
       "Name: stroke, Length: 5110, dtype: int64"
      ]
     },
     "execution_count": 42,
     "metadata": {},
     "output_type": "execute_result"
    }
   ],
   "source": [
    "y=df.iloc[:,-1]\n",
    "y"
   ]
  },
  {
   "cell_type": "markdown",
   "id": "103a6fba",
   "metadata": {},
   "source": [
    "### apply train test split"
   ]
  },
  {
   "cell_type": "code",
   "execution_count": 43,
   "id": "28a81ec6",
   "metadata": {},
   "outputs": [],
   "source": [
    "from sklearn.model_selection import train_test_split\n",
    "xtrain,xtest,ytrain,ytest=train_test_split(x,y,test_size=0.3,random_state=0,stratify=y)"
   ]
  },
  {
   "cell_type": "markdown",
   "id": "fdfe441a",
   "metadata": {},
   "source": [
    "### apply model"
   ]
  },
  {
   "cell_type": "code",
   "execution_count": 44,
   "id": "7f7115e6",
   "metadata": {},
   "outputs": [],
   "source": [
    "def mymodel(model):\n",
    "    \n",
    "    #model creation\n",
    "    model.fit(xtrain,ytrain)\n",
    "    ypred=model.predict(xtest)\n",
    "    \n",
    "    #cheaking bias and variance\n",
    "    train=model.score(xtrain,ytrain)\n",
    "    test=model.score(xtest,ytest)\n",
    "    \n",
    "    print(f\"Training Accuracy= {train}\")\n",
    "    print(f\"Testing Accuracy= {test}\")\n",
    "    \n",
    "    #model evaluation\n",
    "    \n",
    "    print(classification_report(ytest,ypred))\n",
    "    return model"
   ]
  },
  {
   "cell_type": "markdown",
   "id": "2da1c7a3",
   "metadata": {},
   "source": [
    "### import algorithm "
   ]
  },
  {
   "cell_type": "code",
   "execution_count": 45,
   "id": "3b0fb4ec",
   "metadata": {},
   "outputs": [],
   "source": [
    "from sklearn.neighbors import KNeighborsClassifier\n",
    "from sklearn.linear_model import LogisticRegression\n",
    "from sklearn.svm import SVC\n",
    "from sklearn.tree import DecisionTreeClassifier\n",
    "\n",
    "from sklearn.metrics import classification_report\n"
   ]
  },
  {
   "cell_type": "code",
   "execution_count": 46,
   "id": "339d8bb6",
   "metadata": {},
   "outputs": [
    {
     "name": "stdout",
     "output_type": "stream",
     "text": [
      "Training Accuracy= 0.9516354487000279\n",
      "Testing Accuracy= 0.9471624266144814\n",
      "              precision    recall  f1-score   support\n",
      "\n",
      "           0       0.95      1.00      0.97      1458\n",
      "           1       0.12      0.01      0.02        75\n",
      "\n",
      "    accuracy                           0.95      1533\n",
      "   macro avg       0.54      0.50      0.50      1533\n",
      "weighted avg       0.91      0.95      0.93      1533\n",
      "\n"
     ]
    }
   ],
   "source": [
    "knn=mymodel(KNeighborsClassifier())"
   ]
  },
  {
   "cell_type": "code",
   "execution_count": 47,
   "id": "6261d259",
   "metadata": {},
   "outputs": [
    {
     "name": "stdout",
     "output_type": "stream",
     "text": [
      "Training Accuracy= 0.9513558848196813\n",
      "Testing Accuracy= 0.9510763209393346\n",
      "              precision    recall  f1-score   support\n",
      "\n",
      "           0       0.95      1.00      0.97      1458\n",
      "           1       0.50      0.01      0.03        75\n",
      "\n",
      "    accuracy                           0.95      1533\n",
      "   macro avg       0.73      0.51      0.50      1533\n",
      "weighted avg       0.93      0.95      0.93      1533\n",
      "\n"
     ]
    }
   ],
   "source": [
    "logreg=mymodel(LogisticRegression())"
   ]
  },
  {
   "cell_type": "code",
   "execution_count": 48,
   "id": "932deb24",
   "metadata": {},
   "outputs": [
    {
     "name": "stdout",
     "output_type": "stream",
     "text": [
      "Training Accuracy= 0.9513558848196813\n",
      "Testing Accuracy= 0.9510763209393346\n",
      "              precision    recall  f1-score   support\n",
      "\n",
      "           0       0.95      1.00      0.97      1458\n",
      "           1       0.00      0.00      0.00        75\n",
      "\n",
      "    accuracy                           0.95      1533\n",
      "   macro avg       0.48      0.50      0.49      1533\n",
      "weighted avg       0.90      0.95      0.93      1533\n",
      "\n"
     ]
    }
   ],
   "source": [
    "svm=mymodel(SVC())"
   ]
  },
  {
   "cell_type": "code",
   "execution_count": 49,
   "id": "a0cbcb7f",
   "metadata": {},
   "outputs": [
    {
     "name": "stdout",
     "output_type": "stream",
     "text": [
      "Training Accuracy= 1.0\n",
      "Testing Accuracy= 0.9080234833659491\n",
      "              precision    recall  f1-score   support\n",
      "\n",
      "           0       0.96      0.95      0.95      1458\n",
      "           1       0.12      0.13      0.12        75\n",
      "\n",
      "    accuracy                           0.91      1533\n",
      "   macro avg       0.54      0.54      0.54      1533\n",
      "weighted avg       0.91      0.91      0.91      1533\n",
      "\n"
     ]
    }
   ],
   "source": [
    "dt=mymodel(DecisionTreeClassifier())"
   ]
  },
  {
   "cell_type": "code",
   "execution_count": 50,
   "id": "60983698",
   "metadata": {},
   "outputs": [],
   "source": [
    "# After applying different classification model we get training and testing accuracy\n",
    "# in case of KNN regression Training Accuracy= 0.9516354487000279 and Testing Accuracy= 0.9471624266144814\n",
    "# in case of logistic regession Training Accuracy= 0.9513558848196813 and Testing Accuracy= 0.9510763209393346\n",
    "# in case of support vector machine Training Accuracy= 0.9513558848196813 and Testing Accuracy= 0.9510763209393346\n",
    "# in case if Decision Tree Training Accuracy= 1.0 and Testing Accuracy= 0.9145466405740378"
   ]
  },
  {
   "cell_type": "code",
   "execution_count": 51,
   "id": "a209177e",
   "metadata": {},
   "outputs": [],
   "source": [
    "# from the above observation it shown thatsupport vector machin and logistic regression have\n",
    "# perfect training and testing accuracy so that i'll go for support vector machine"
   ]
  },
  {
   "cell_type": "code",
   "execution_count": 52,
   "id": "a44f993e",
   "metadata": {},
   "outputs": [],
   "source": [
    "from sklearn.pipeline import Pipeline\n",
    "from sklearn.preprocessing import StandardScaler"
   ]
  },
  {
   "cell_type": "code",
   "execution_count": 53,
   "id": "ddb80a17",
   "metadata": {},
   "outputs": [],
   "source": [
    "pipe=Pipeline(\n",
    "    steps=[\n",
    "        (\"scaler\",StandardScaler()),\n",
    "        (\"svm\",SVC())\n",
    "    ]\n",
    ")"
   ]
  },
  {
   "cell_type": "code",
   "execution_count": 54,
   "id": "c09d6a6d",
   "metadata": {},
   "outputs": [
    {
     "name": "stdout",
     "output_type": "stream",
     "text": [
      "              precision    recall  f1-score   support\n",
      "\n",
      "           0       0.95      1.00      0.97      1458\n",
      "           1       0.00      0.00      0.00        75\n",
      "\n",
      "    accuracy                           0.95      1533\n",
      "   macro avg       0.48      0.50      0.49      1533\n",
      "weighted avg       0.90      0.95      0.93      1533\n",
      "\n"
     ]
    }
   ],
   "source": [
    "pipe.fit(xtrain,ytrain)\n",
    "ypred=pipe.predict(xtest)\n",
    "print(classification_report(ytest,ypred))"
   ]
  },
  {
   "cell_type": "code",
   "execution_count": 55,
   "id": "00b118ab",
   "metadata": {},
   "outputs": [
    {
     "name": "stdout",
     "output_type": "stream",
     "text": [
      "Training Accuracy:- 0.9519150125803746\n",
      " Testing Accuracy:- 0.9510763209393346\n"
     ]
    }
   ],
   "source": [
    "train = pipe.score(xtrain,ytrain)\n",
    "test = pipe.score(xtest,ytest)\n",
    "\n",
    "print(f\"Training Accuracy:- {train}\\n Testing Accuracy:- {test}\")"
   ]
  },
  {
   "cell_type": "code",
   "execution_count": 56,
   "id": "176daf22",
   "metadata": {},
   "outputs": [],
   "source": [
    "from sklearn.model_selection import GridSearchCV"
   ]
  },
  {
   "cell_type": "code",
   "execution_count": 57,
   "id": "54f86265",
   "metadata": {},
   "outputs": [],
   "source": [
    "parameter = {\n",
    "             \"C\":[0.1,1,10],\n",
    "             \"gamma\":[0.1,1,10],\n",
    "             \"kernel\":[\"rbf\"]\n",
    "     \n",
    "}"
   ]
  },
  {
   "cell_type": "code",
   "execution_count": 58,
   "id": "f04dd2b0",
   "metadata": {},
   "outputs": [
    {
     "name": "stdout",
     "output_type": "stream",
     "text": [
      "Fitting 5 folds for each of 9 candidates, totalling 45 fits\n",
      "[CV] END .......................C=0.1, gamma=0.1, kernel=rbf; total time=   1.7s\n",
      "[CV] END .......................C=0.1, gamma=0.1, kernel=rbf; total time=   2.0s\n",
      "[CV] END .......................C=0.1, gamma=0.1, kernel=rbf; total time=   1.6s\n",
      "[CV] END .......................C=0.1, gamma=0.1, kernel=rbf; total time=   1.3s\n",
      "[CV] END .......................C=0.1, gamma=0.1, kernel=rbf; total time=   1.1s\n",
      "[CV] END .........................C=0.1, gamma=1, kernel=rbf; total time=   1.8s\n",
      "[CV] END .........................C=0.1, gamma=1, kernel=rbf; total time=   2.0s\n",
      "[CV] END .........................C=0.1, gamma=1, kernel=rbf; total time=   2.8s\n",
      "[CV] END .........................C=0.1, gamma=1, kernel=rbf; total time=   2.7s\n",
      "[CV] END .........................C=0.1, gamma=1, kernel=rbf; total time=   2.6s\n",
      "[CV] END ........................C=0.1, gamma=10, kernel=rbf; total time=   3.0s\n",
      "[CV] END ........................C=0.1, gamma=10, kernel=rbf; total time=   2.2s\n",
      "[CV] END ........................C=0.1, gamma=10, kernel=rbf; total time=   2.7s\n",
      "[CV] END ........................C=0.1, gamma=10, kernel=rbf; total time=   2.6s\n",
      "[CV] END ........................C=0.1, gamma=10, kernel=rbf; total time=   3.0s\n",
      "[CV] END .........................C=1, gamma=0.1, kernel=rbf; total time=   1.7s\n",
      "[CV] END .........................C=1, gamma=0.1, kernel=rbf; total time=   2.1s\n",
      "[CV] END .........................C=1, gamma=0.1, kernel=rbf; total time=   2.0s\n",
      "[CV] END .........................C=1, gamma=0.1, kernel=rbf; total time=   2.0s\n",
      "[CV] END .........................C=1, gamma=0.1, kernel=rbf; total time=   1.8s\n",
      "[CV] END ...........................C=1, gamma=1, kernel=rbf; total time=   2.7s\n",
      "[CV] END ...........................C=1, gamma=1, kernel=rbf; total time=   2.6s\n",
      "[CV] END ...........................C=1, gamma=1, kernel=rbf; total time=   2.7s\n",
      "[CV] END ...........................C=1, gamma=1, kernel=rbf; total time=   2.6s\n",
      "[CV] END ...........................C=1, gamma=1, kernel=rbf; total time=   2.7s\n",
      "[CV] END ..........................C=1, gamma=10, kernel=rbf; total time=   3.3s\n",
      "[CV] END ..........................C=1, gamma=10, kernel=rbf; total time=   3.1s\n",
      "[CV] END ..........................C=1, gamma=10, kernel=rbf; total time=   3.2s\n",
      "[CV] END ..........................C=1, gamma=10, kernel=rbf; total time=   2.7s\n",
      "[CV] END ..........................C=1, gamma=10, kernel=rbf; total time=   2.7s\n",
      "[CV] END ........................C=10, gamma=0.1, kernel=rbf; total time=   1.9s\n",
      "[CV] END ........................C=10, gamma=0.1, kernel=rbf; total time=   1.8s\n",
      "[CV] END ........................C=10, gamma=0.1, kernel=rbf; total time=   1.9s\n",
      "[CV] END ........................C=10, gamma=0.1, kernel=rbf; total time=   1.8s\n",
      "[CV] END ........................C=10, gamma=0.1, kernel=rbf; total time=   2.0s\n",
      "[CV] END ..........................C=10, gamma=1, kernel=rbf; total time=   2.8s\n",
      "[CV] END ..........................C=10, gamma=1, kernel=rbf; total time=   2.7s\n",
      "[CV] END ..........................C=10, gamma=1, kernel=rbf; total time=   2.8s\n",
      "[CV] END ..........................C=10, gamma=1, kernel=rbf; total time=   2.9s\n",
      "[CV] END ..........................C=10, gamma=1, kernel=rbf; total time=   2.7s\n",
      "[CV] END .........................C=10, gamma=10, kernel=rbf; total time=   3.4s\n",
      "[CV] END .........................C=10, gamma=10, kernel=rbf; total time=   3.1s\n",
      "[CV] END .........................C=10, gamma=10, kernel=rbf; total time=   3.0s\n",
      "[CV] END .........................C=10, gamma=10, kernel=rbf; total time=   3.2s\n",
      "[CV] END .........................C=10, gamma=10, kernel=rbf; total time=   3.1s\n"
     ]
    },
    {
     "data": {
      "text/plain": [
       "GridSearchCV(estimator=SVC(),\n",
       "             param_grid={'C': [0.1, 1, 10], 'gamma': [0.1, 1, 10],\n",
       "                         'kernel': ['rbf']},\n",
       "             verbose=2)"
      ]
     },
     "execution_count": 58,
     "metadata": {},
     "output_type": "execute_result"
    }
   ],
   "source": [
    "grid = GridSearchCV(SVC(), parameter, verbose=2)\n",
    "grid.fit(xtrain,ytrain)"
   ]
  },
  {
   "cell_type": "code",
   "execution_count": 59,
   "id": "6f6269b7",
   "metadata": {},
   "outputs": [
    {
     "data": {
      "text/plain": [
       "{'C': 1, 'gamma': 0.1, 'kernel': 'rbf'}"
      ]
     },
     "execution_count": 59,
     "metadata": {},
     "output_type": "execute_result"
    }
   ],
   "source": [
    "grid.best_params_"
   ]
  },
  {
   "cell_type": "code",
   "execution_count": 60,
   "id": "fd720412",
   "metadata": {},
   "outputs": [
    {
     "data": {
      "text/plain": [
       "0.9516357385631128"
      ]
     },
     "execution_count": 60,
     "metadata": {},
     "output_type": "execute_result"
    }
   ],
   "source": [
    "grid.best_score_"
   ]
  },
  {
   "cell_type": "code",
   "execution_count": 61,
   "id": "6c1adbed",
   "metadata": {},
   "outputs": [
    {
     "data": {
      "text/plain": [
       "SVC(C=1, gamma=0.1)"
      ]
     },
     "execution_count": 61,
     "metadata": {},
     "output_type": "execute_result"
    }
   ],
   "source": [
    "grid.best_estimator_"
   ]
  },
  {
   "cell_type": "code",
   "execution_count": 62,
   "id": "6f91d470",
   "metadata": {},
   "outputs": [
    {
     "name": "stdout",
     "output_type": "stream",
     "text": [
      "              precision    recall  f1-score   support\n",
      "\n",
      "           0       0.95      1.00      0.97      1458\n",
      "           1       0.00      0.00      0.00        75\n",
      "\n",
      "    accuracy                           0.95      1533\n",
      "   macro avg       0.48      0.50      0.49      1533\n",
      "weighted avg       0.90      0.95      0.93      1533\n",
      "\n"
     ]
    }
   ],
   "source": [
    "svm = grid.best_estimator_\n",
    "svm.fit(xtrain,ytrain)\n",
    "ypred = svm.predict(xtest)\n",
    "print(classification_report(ytest,ypred))"
   ]
  },
  {
   "cell_type": "markdown",
   "id": "4523779b",
   "metadata": {},
   "source": [
    "### cross validation"
   ]
  },
  {
   "cell_type": "code",
   "execution_count": 63,
   "id": "4a2587d7",
   "metadata": {},
   "outputs": [
    {
     "name": "stdout",
     "output_type": "stream",
     "text": [
      "Cross-validation accuracy: 0.95 (+/- 0.00)\n"
     ]
    }
   ],
   "source": [
    "from sklearn.model_selection import cross_val_score\n",
    "\n",
    "# Create an SVM classifier with default hyperparameters\n",
    "svm = SVC()\n",
    "\n",
    "# Perform 10-fold cross-validation on the SVM model\n",
    "scores = cross_val_score(svm, x, y, cv=10)\n",
    "\n",
    "# Print the mean and standard deviation of the cross-validation scores\n",
    "print(\"Cross-validation accuracy: %0.2f (+/- %0.2f)\" % (scores.mean(), scores.std() * 2))\n"
   ]
  },
  {
   "cell_type": "markdown",
   "id": "c27d4981",
   "metadata": {},
   "source": [
    "### Ensemble learning"
   ]
  },
  {
   "cell_type": "code",
   "execution_count": 64,
   "id": "8a5b3a5a",
   "metadata": {},
   "outputs": [
    {
     "name": "stdout",
     "output_type": "stream",
     "text": [
      "Bagging accuracy:  0.9510763209393346\n"
     ]
    }
   ],
   "source": [
    "from sklearn.ensemble import BaggingClassifier\n",
    "\n",
    "# Create a bagging classifier with 10 SVM base estimators\n",
    "bagging = BaggingClassifier(base_estimator=svm, n_estimators=10)\n",
    "\n",
    "# Train the bagging classifier on the training data\n",
    "bagging.fit(xtrain, ytrain)\n",
    "\n",
    "# Evaluate the bagging classifier on the testing data\n",
    "score = bagging.score(xtest, ytest)\n",
    "print(f\"Bagging accuracy:  {score}\")"
   ]
  },
  {
   "cell_type": "code",
   "execution_count": 65,
   "id": "37282521",
   "metadata": {},
   "outputs": [],
   "source": [
    "from sklearn.ensemble import AdaBoostClassifier,GradientBoostingClassifier"
   ]
  },
  {
   "cell_type": "code",
   "execution_count": 66,
   "id": "424295fe",
   "metadata": {},
   "outputs": [
    {
     "name": "stdout",
     "output_type": "stream",
     "text": [
      "Training Accuracy= 0.9513558848196813\n",
      "Testing Accuracy= 0.9504240052185258\n",
      "              precision    recall  f1-score   support\n",
      "\n",
      "           0       0.95      1.00      0.97      1458\n",
      "           1       0.40      0.03      0.05        75\n",
      "\n",
      "    accuracy                           0.95      1533\n",
      "   macro avg       0.68      0.51      0.51      1533\n",
      "weighted avg       0.93      0.95      0.93      1533\n",
      "\n"
     ]
    },
    {
     "data": {
      "text/plain": [
       "AdaBoostClassifier()"
      ]
     },
     "execution_count": 66,
     "metadata": {},
     "output_type": "execute_result"
    }
   ],
   "source": [
    "mymodel(AdaBoostClassifier())"
   ]
  },
  {
   "cell_type": "code",
   "execution_count": 67,
   "id": "9e12d8da",
   "metadata": {},
   "outputs": [
    {
     "name": "stdout",
     "output_type": "stream",
     "text": [
      "Training Accuracy= 0.961420184512161\n",
      "Testing Accuracy= 0.9504240052185258\n",
      "              precision    recall  f1-score   support\n",
      "\n",
      "           0       0.95      1.00      0.97      1458\n",
      "           1       0.33      0.01      0.03        75\n",
      "\n",
      "    accuracy                           0.95      1533\n",
      "   macro avg       0.64      0.51      0.50      1533\n",
      "weighted avg       0.92      0.95      0.93      1533\n",
      "\n"
     ]
    },
    {
     "data": {
      "text/plain": [
       "GradientBoostingClassifier()"
      ]
     },
     "execution_count": 67,
     "metadata": {},
     "output_type": "execute_result"
    }
   ],
   "source": [
    "mymodel(GradientBoostingClassifier())"
   ]
  },
  {
   "cell_type": "code",
   "execution_count": 68,
   "id": "1521105c",
   "metadata": {},
   "outputs": [
    {
     "name": "stdout",
     "output_type": "stream",
     "text": [
      "Requirement already satisfied: xgboost in c:\\users\\omkar\\anaconda3\\lib\\site-packages (1.7.4)\n",
      "Requirement already satisfied: scipy in c:\\users\\omkar\\anaconda3\\lib\\site-packages (from xgboost) (1.7.3)\n",
      "Requirement already satisfied: numpy in c:\\users\\omkar\\anaconda3\\lib\\site-packages (from xgboost) (1.21.5)\n"
     ]
    }
   ],
   "source": [
    "!pip install xgboost"
   ]
  },
  {
   "cell_type": "code",
   "execution_count": 69,
   "id": "9c4d97f3",
   "metadata": {},
   "outputs": [],
   "source": [
    "from xgboost import XGBClassifier"
   ]
  },
  {
   "cell_type": "code",
   "execution_count": 70,
   "id": "c5a93ef1",
   "metadata": {},
   "outputs": [
    {
     "name": "stdout",
     "output_type": "stream",
     "text": [
      "Training Accuracy= 0.9980430528375733\n",
      "Testing Accuracy= 0.9399869536855838\n",
      "              precision    recall  f1-score   support\n",
      "\n",
      "           0       0.95      0.98      0.97      1458\n",
      "           1       0.23      0.09      0.13        75\n",
      "\n",
      "    accuracy                           0.94      1533\n",
      "   macro avg       0.59      0.54      0.55      1533\n",
      "weighted avg       0.92      0.94      0.93      1533\n",
      "\n"
     ]
    },
    {
     "data": {
      "text/plain": [
       "XGBClassifier(base_score=None, booster=None, callbacks=None,\n",
       "              colsample_bylevel=None, colsample_bynode=None,\n",
       "              colsample_bytree=None, early_stopping_rounds=None,\n",
       "              enable_categorical=False, eval_metric=None, feature_types=None,\n",
       "              gamma=None, gpu_id=None, grow_policy=None, importance_type=None,\n",
       "              interaction_constraints=None, learning_rate=None, max_bin=None,\n",
       "              max_cat_threshold=None, max_cat_to_onehot=None,\n",
       "              max_delta_step=None, max_depth=None, max_leaves=None,\n",
       "              min_child_weight=None, missing=nan, monotone_constraints=None,\n",
       "              n_estimators=100, n_jobs=None, num_parallel_tree=None,\n",
       "              predictor=None, random_state=None, ...)"
      ]
     },
     "execution_count": 70,
     "metadata": {},
     "output_type": "execute_result"
    }
   ],
   "source": [
    "mymodel(XGBClassifier())"
   ]
  },
  {
   "cell_type": "markdown",
   "id": "dcd389c3",
   "metadata": {},
   "source": [
    "### hyper parameter tuning"
   ]
  },
  {
   "cell_type": "code",
   "execution_count": 71,
   "id": "d0fbe61a",
   "metadata": {},
   "outputs": [
    {
     "data": {
      "text/plain": [
       "SVC()"
      ]
     },
     "execution_count": 71,
     "metadata": {},
     "output_type": "execute_result"
    }
   ],
   "source": [
    "# Train the final model on the entire dataset\n",
    "final_model = SVC(C=1.0, kernel='rbf')\n",
    "final_model.fit(x, y)"
   ]
  },
  {
   "cell_type": "markdown",
   "id": "9951394e",
   "metadata": {},
   "source": [
    "### predict new observation"
   ]
  },
  {
   "cell_type": "code",
   "execution_count": 74,
   "id": "6290013e",
   "metadata": {},
   "outputs": [
    {
     "data": {
      "text/html": [
       "<div>\n",
       "<style scoped>\n",
       "    .dataframe tbody tr th:only-of-type {\n",
       "        vertical-align: middle;\n",
       "    }\n",
       "\n",
       "    .dataframe tbody tr th {\n",
       "        vertical-align: top;\n",
       "    }\n",
       "\n",
       "    .dataframe thead th {\n",
       "        text-align: right;\n",
       "    }\n",
       "</style>\n",
       "<table border=\"1\" class=\"dataframe\">\n",
       "  <thead>\n",
       "    <tr style=\"text-align: right;\">\n",
       "      <th></th>\n",
       "      <th>gender</th>\n",
       "      <th>age</th>\n",
       "      <th>hypertension</th>\n",
       "      <th>heart_disease</th>\n",
       "      <th>ever_married</th>\n",
       "      <th>work_type</th>\n",
       "      <th>Residence_type</th>\n",
       "      <th>avg_glucose_level</th>\n",
       "      <th>bmi</th>\n",
       "      <th>smoking_status</th>\n",
       "    </tr>\n",
       "  </thead>\n",
       "  <tbody>\n",
       "    <tr>\n",
       "      <th>0</th>\n",
       "      <td>1.0</td>\n",
       "      <td>67.0</td>\n",
       "      <td>0</td>\n",
       "      <td>1</td>\n",
       "      <td>1.0</td>\n",
       "      <td>2.0</td>\n",
       "      <td>1.0</td>\n",
       "      <td>228.69</td>\n",
       "      <td>36.600000</td>\n",
       "      <td>1.0</td>\n",
       "    </tr>\n",
       "    <tr>\n",
       "      <th>1</th>\n",
       "      <td>0.0</td>\n",
       "      <td>61.0</td>\n",
       "      <td>0</td>\n",
       "      <td>0</td>\n",
       "      <td>1.0</td>\n",
       "      <td>3.0</td>\n",
       "      <td>0.0</td>\n",
       "      <td>202.21</td>\n",
       "      <td>28.893237</td>\n",
       "      <td>2.0</td>\n",
       "    </tr>\n",
       "    <tr>\n",
       "      <th>2</th>\n",
       "      <td>1.0</td>\n",
       "      <td>80.0</td>\n",
       "      <td>0</td>\n",
       "      <td>1</td>\n",
       "      <td>1.0</td>\n",
       "      <td>2.0</td>\n",
       "      <td>0.0</td>\n",
       "      <td>105.92</td>\n",
       "      <td>32.500000</td>\n",
       "      <td>2.0</td>\n",
       "    </tr>\n",
       "    <tr>\n",
       "      <th>3</th>\n",
       "      <td>0.0</td>\n",
       "      <td>49.0</td>\n",
       "      <td>0</td>\n",
       "      <td>0</td>\n",
       "      <td>1.0</td>\n",
       "      <td>2.0</td>\n",
       "      <td>1.0</td>\n",
       "      <td>171.23</td>\n",
       "      <td>34.400000</td>\n",
       "      <td>3.0</td>\n",
       "    </tr>\n",
       "    <tr>\n",
       "      <th>4</th>\n",
       "      <td>0.0</td>\n",
       "      <td>79.0</td>\n",
       "      <td>1</td>\n",
       "      <td>0</td>\n",
       "      <td>1.0</td>\n",
       "      <td>3.0</td>\n",
       "      <td>0.0</td>\n",
       "      <td>174.12</td>\n",
       "      <td>24.000000</td>\n",
       "      <td>2.0</td>\n",
       "    </tr>\n",
       "  </tbody>\n",
       "</table>\n",
       "</div>"
      ],
      "text/plain": [
       "   gender   age  hypertension  heart_disease  ever_married  work_type  \\\n",
       "0     1.0  67.0             0              1           1.0        2.0   \n",
       "1     0.0  61.0             0              0           1.0        3.0   \n",
       "2     1.0  80.0             0              1           1.0        2.0   \n",
       "3     0.0  49.0             0              0           1.0        2.0   \n",
       "4     0.0  79.0             1              0           1.0        3.0   \n",
       "\n",
       "   Residence_type  avg_glucose_level        bmi  smoking_status  \n",
       "0             1.0             228.69  36.600000             1.0  \n",
       "1             0.0             202.21  28.893237             2.0  \n",
       "2             0.0             105.92  32.500000             2.0  \n",
       "3             1.0             171.23  34.400000             3.0  \n",
       "4             0.0             174.12  24.000000             2.0  "
      ]
     },
     "execution_count": 74,
     "metadata": {},
     "output_type": "execute_result"
    }
   ],
   "source": [
    "x.head()"
   ]
  },
  {
   "cell_type": "code",
   "execution_count": 75,
   "id": "44dcca69",
   "metadata": {},
   "outputs": [
    {
     "data": {
      "text/plain": [
       "array([0, 0, 0, ..., 0, 0, 0], dtype=int64)"
      ]
     },
     "execution_count": 75,
     "metadata": {},
     "output_type": "execute_result"
    }
   ],
   "source": [
    "from sklearn.svm import SVC\n",
    "svm=SVC()\n",
    "svm.fit(xtrain,ytrain)\n",
    "svm.predict(xtrain)"
   ]
  },
  {
   "cell_type": "code",
   "execution_count": 78,
   "id": "c49b5462",
   "metadata": {},
   "outputs": [],
   "source": [
    "def new_observation():\n",
    "    gender=input(\"Enter gender(Male/Female/Other)=\")\n",
    "    age=float(input(\"Enter age=\"))\n",
    "    hypertension=int(input(\"Do you have hypertension (Yes=1/No=0)=\"))\n",
    "    heart_disease=int(input(\"Do you have heart disease (Yes=1/No=0)=\"))\n",
    "    ever_married=input(\"Are you married (Yes/No)=\")\n",
    "    work_type=input(\"Enter work type(Private/Self_employed/children/Govt_job/Never_worked)=\")\n",
    "    residence_type=input(\"Enter residence type (Urban/Rural)=\")\n",
    "    avg_glucose_level=float(input(\"Enter average glucose level=\"))\n",
    "    bmi=float(input(\"Enter BMI=\"))\n",
    "    smoking_status=input(\"Enter smoking status (formerly smoked/never smoked/unknown/smokes)=\")\n",
    "    \n",
    "    newob=[gender,age,hypertension,heart_disease,ever_married,work_type,residence_type,avg_glucose_level,bmi,smoking_status]\n",
    "    newob[0],newob[4],newob[5],newob[6],newob[-1]=oe.transform([[newob[0],newob[4],newob[5],newob[6],newob[-1]]])[0]\n",
    "    \n",
    "    y=svm.predict([newob])[0]\n",
    "    \n",
    "    if y==1:\n",
    "        print(\"person have stroke\")\n",
    "    else:\n",
    "        print(\"person don't have stroke\")\n",
    "    \n",
    "    return y"
   ]
  },
  {
   "cell_type": "code",
   "execution_count": 79,
   "id": "8b59044b",
   "metadata": {},
   "outputs": [
    {
     "name": "stdout",
     "output_type": "stream",
     "text": [
      "Enter gender(Male/Female/Other)=Female\n",
      "Enter age=34\n",
      "Do you have hypertension (Yes=1/No=0)=0\n",
      "Do you have heart disease (Yes=1/No=0)=1\n",
      "Are you married (Yes/No)=Yes\n",
      "Enter work type(Private/Self_employed/children/Govt_job/Never_worked)=children\n",
      "Enter residence type (Urban/Rural)=Urban\n",
      "Enter average glucose level=34\n",
      "Enter BMI=23\n",
      "Enter smoking status (formerly smoked/never smoked/unknown/smokes)=smokes\n",
      "person don't have stroke\n"
     ]
    },
    {
     "data": {
      "text/plain": [
       "0"
      ]
     },
     "execution_count": 79,
     "metadata": {},
     "output_type": "execute_result"
    }
   ],
   "source": [
    "new_observation()"
   ]
  },
  {
   "cell_type": "code",
   "execution_count": null,
   "id": "6f5f0380",
   "metadata": {},
   "outputs": [],
   "source": []
  }
 ],
 "metadata": {
  "kernelspec": {
   "display_name": "Python 3 (ipykernel)",
   "language": "python",
   "name": "python3"
  },
  "language_info": {
   "codemirror_mode": {
    "name": "ipython",
    "version": 3
   },
   "file_extension": ".py",
   "mimetype": "text/x-python",
   "name": "python",
   "nbconvert_exporter": "python",
   "pygments_lexer": "ipython3",
   "version": "3.9.12"
  }
 },
 "nbformat": 4,
 "nbformat_minor": 5
}
